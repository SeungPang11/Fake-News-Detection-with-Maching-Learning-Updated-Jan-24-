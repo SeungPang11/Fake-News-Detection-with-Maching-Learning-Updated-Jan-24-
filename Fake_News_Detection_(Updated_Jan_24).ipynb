{
  "nbformat": 4,
  "nbformat_minor": 0,
  "metadata": {
    "colab": {
      "provenance": [],
      "authorship_tag": "ABX9TyPpbvIKJ/sJRTrhljDsYYT9",
      "include_colab_link": true
    },
    "kernelspec": {
      "name": "python3",
      "display_name": "Python 3"
    },
    "language_info": {
      "name": "python"
    }
  },
  "cells": [
    {
      "cell_type": "markdown",
      "metadata": {
        "id": "view-in-github",
        "colab_type": "text"
      },
      "source": [
        "<a href=\"https://colab.research.google.com/github/SeungPang11/Fake-News-Detection-with-Maching-Learning-Updated-Jan-24-/blob/main/Fake_News_Detection_(Updated_Jan_24).ipynb\" target=\"_parent\"><img src=\"https://colab.research.google.com/assets/colab-badge.svg\" alt=\"Open In Colab\"/></a>"
      ]
    },
    {
      "cell_type": "markdown",
      "source": [
        "## **Fake News Detection (Updated Jan 2024)**\n",
        "* **Objective**: Using FakeNewsNet datasets, improve performance to achieve <br>\n",
        "more efficient and reliable predictive models for detecting fradulant information. <br>\n",
        "\n",
        "* **Dataset**: [FakeNewsNet](https://github.com/KaiDMML/FakeNewsNet)<br>\n",
        "  -Fake and real news from two news platforms, **Gossip Cop** and **Politifact**\n",
        "<br> -**Attributes** include: id, news_url, title, and tweet_ids\n",
        "\n",
        " -Gossip Cop fake news - 5323 rows, 4 columns <br>\n",
        " -Gossip Cop real news - 16817 rows, 4 columns\n",
        "\n",
        " -Politifact fake news - 432 rows, 4 columns <br>\n",
        " -Politifact real news - 624 rows, 4 columns\n",
        "\n",
        " -Total fake news - 5755 <br>\n",
        " -Total real news - 17441\n",
        "\n",
        "\n",
        "* **Problem**: imbalanced dataset; the total # real news **three times more** than the total # fake news <br>\n",
        "\n",
        "*  **Process**: <br>\n",
        "  -Exploratory Data Analysis (EDA) <br>\n",
        "  -Feature Engineering <br>\n",
        "  -Text Pre-processing <br>\n",
        "  -Model Performance BEFORE Imbalanced Data Handling <br>\n",
        "  -Model Performance AFTER SMOTE <br>\n",
        "  -Model Performance AFTER Oversampling + Undersampling <br>\n",
        "\n",
        "*  **Models**: <br>"
      ],
      "metadata": {
        "id": "iO-VRBjXRAY6"
      }
    },
    {
      "cell_type": "code",
      "execution_count": null,
      "metadata": {
        "id": "j0zrU_wH37LO"
      },
      "outputs": [],
      "source": [
        "# Necessary Packages\n",
        "import numpy as np\n",
        "import pandas as pd\n",
        "import matplotlib.pyplot as plt\n",
        "from sklearn.model_selection import train_test_split\n",
        "from sklearn.preprocessing import LabelEncoder\n",
        "from sklearn.linear_model import LogisticRegression\n",
        "from sklearn.metrics import accuracy_score, confusion_matrix\n",
        "from sklearn.feature_extraction.text import TfidfVectorizer\n",
        "from sklearn.metrics import ConfusionMatrixDisplay\n",
        "from sklearn.linear_model import LogisticRegression\n",
        "from sklearn.linear_model import LogisticRegression\n",
        "from sklearn.feature_extraction.text import TfidfVectorizer\n",
        "from sklearn.model_selection import cross_val_score\n",
        "from sklearn.model_selection import train_test_split\n",
        "from sklearn.naive_bayes import MultinomialNB\n",
        "from sklearn.naive_bayes import BernoulliNB\n",
        "from sklearn import metrics\n",
        "from xgboost import XGBClassifier"
      ]
    },
    {
      "cell_type": "code",
      "source": [
        "from google.colab import drive\n",
        "drive.mount('/content/drive', force_remount=True)"
      ],
      "metadata": {
        "colab": {
          "base_uri": "https://localhost:8080/"
        },
        "id": "k_Mye0he4RAY",
        "outputId": "d01813f5-74f3-42dc-f06c-160c87e78b58"
      },
      "execution_count": null,
      "outputs": [
        {
          "output_type": "stream",
          "name": "stdout",
          "text": [
            "Mounted at /content/drive\n"
          ]
        }
      ]
    },
    {
      "cell_type": "markdown",
      "source": [
        "## Loading GossipCop and Politifact Dataframes"
      ],
      "metadata": {
        "id": "jirzKy_HdxZ-"
      }
    },
    {
      "cell_type": "code",
      "source": [
        "#GossipCop Fake News and Real News\n",
        "gossip_fn = pd.read_csv(\"/content/drive/MyDrive/gossipcop_fake.csv\")\n",
        "gossip_tn = pd.read_csv(\"/content/drive/MyDrive/gossipcop_real.csv\")"
      ],
      "metadata": {
        "id": "hF8xKaOZ4x6b"
      },
      "execution_count": null,
      "outputs": []
    },
    {
      "cell_type": "code",
      "source": [
        "gossip_fn.head(5)"
      ],
      "metadata": {
        "colab": {
          "base_uri": "https://localhost:8080/",
          "height": 293
        },
        "id": "QMDr7yrj49nN",
        "outputId": "bd53c683-c9a9-419a-975e-e5df3becc23c"
      },
      "execution_count": null,
      "outputs": [
        {
          "output_type": "execute_result",
          "data": {
            "text/plain": [
              "                     id                                           news_url  \\\n",
              "0  gossipcop-2493749932  www.dailymail.co.uk/tvshowbiz/article-5874213/...   \n",
              "1  gossipcop-4580247171  hollywoodlife.com/2018/05/05/paris-jackson-car...   \n",
              "2   gossipcop-941805037  variety.com/2017/biz/news/tax-march-donald-tru...   \n",
              "3  gossipcop-2547891536  www.dailymail.co.uk/femail/article-3499192/Do-...   \n",
              "4  gossipcop-5476631226  variety.com/2018/film/news/list-2018-oscar-nom...   \n",
              "\n",
              "                                               title  \\\n",
              "0  Did Miley Cyrus and Liam Hemsworth secretly ge...   \n",
              "1  Paris Jackson & Cara Delevingne Enjoy Night Ou...   \n",
              "2  Celebrities Join Tax March in Protest of Donal...   \n",
              "3  Cindy Crawford's daughter Kaia Gerber wears a ...   \n",
              "4      Full List of 2018 Oscar Nominations – Variety   \n",
              "\n",
              "                                           tweet_ids  \n",
              "0  284329075902926848\\t284332744559968256\\t284335...  \n",
              "1  992895508267130880\\t992897935418503169\\t992899...  \n",
              "2  853359353532829696\\t853359576543920128\\t853359...  \n",
              "3  988821905196158981\\t988824206556172288\\t988825...  \n",
              "4  955792793632432131\\t955795063925301249\\t955798...  "
            ],
            "text/html": [
              "\n",
              "  <div id=\"df-319188cf-f02d-42cf-b479-e73418d300e4\" class=\"colab-df-container\">\n",
              "    <div>\n",
              "<style scoped>\n",
              "    .dataframe tbody tr th:only-of-type {\n",
              "        vertical-align: middle;\n",
              "    }\n",
              "\n",
              "    .dataframe tbody tr th {\n",
              "        vertical-align: top;\n",
              "    }\n",
              "\n",
              "    .dataframe thead th {\n",
              "        text-align: right;\n",
              "    }\n",
              "</style>\n",
              "<table border=\"1\" class=\"dataframe\">\n",
              "  <thead>\n",
              "    <tr style=\"text-align: right;\">\n",
              "      <th></th>\n",
              "      <th>id</th>\n",
              "      <th>news_url</th>\n",
              "      <th>title</th>\n",
              "      <th>tweet_ids</th>\n",
              "    </tr>\n",
              "  </thead>\n",
              "  <tbody>\n",
              "    <tr>\n",
              "      <th>0</th>\n",
              "      <td>gossipcop-2493749932</td>\n",
              "      <td>www.dailymail.co.uk/tvshowbiz/article-5874213/...</td>\n",
              "      <td>Did Miley Cyrus and Liam Hemsworth secretly ge...</td>\n",
              "      <td>284329075902926848\\t284332744559968256\\t284335...</td>\n",
              "    </tr>\n",
              "    <tr>\n",
              "      <th>1</th>\n",
              "      <td>gossipcop-4580247171</td>\n",
              "      <td>hollywoodlife.com/2018/05/05/paris-jackson-car...</td>\n",
              "      <td>Paris Jackson &amp; Cara Delevingne Enjoy Night Ou...</td>\n",
              "      <td>992895508267130880\\t992897935418503169\\t992899...</td>\n",
              "    </tr>\n",
              "    <tr>\n",
              "      <th>2</th>\n",
              "      <td>gossipcop-941805037</td>\n",
              "      <td>variety.com/2017/biz/news/tax-march-donald-tru...</td>\n",
              "      <td>Celebrities Join Tax March in Protest of Donal...</td>\n",
              "      <td>853359353532829696\\t853359576543920128\\t853359...</td>\n",
              "    </tr>\n",
              "    <tr>\n",
              "      <th>3</th>\n",
              "      <td>gossipcop-2547891536</td>\n",
              "      <td>www.dailymail.co.uk/femail/article-3499192/Do-...</td>\n",
              "      <td>Cindy Crawford's daughter Kaia Gerber wears a ...</td>\n",
              "      <td>988821905196158981\\t988824206556172288\\t988825...</td>\n",
              "    </tr>\n",
              "    <tr>\n",
              "      <th>4</th>\n",
              "      <td>gossipcop-5476631226</td>\n",
              "      <td>variety.com/2018/film/news/list-2018-oscar-nom...</td>\n",
              "      <td>Full List of 2018 Oscar Nominations – Variety</td>\n",
              "      <td>955792793632432131\\t955795063925301249\\t955798...</td>\n",
              "    </tr>\n",
              "  </tbody>\n",
              "</table>\n",
              "</div>\n",
              "    <div class=\"colab-df-buttons\">\n",
              "\n",
              "  <div class=\"colab-df-container\">\n",
              "    <button class=\"colab-df-convert\" onclick=\"convertToInteractive('df-319188cf-f02d-42cf-b479-e73418d300e4')\"\n",
              "            title=\"Convert this dataframe to an interactive table.\"\n",
              "            style=\"display:none;\">\n",
              "\n",
              "  <svg xmlns=\"http://www.w3.org/2000/svg\" height=\"24px\" viewBox=\"0 -960 960 960\">\n",
              "    <path d=\"M120-120v-720h720v720H120Zm60-500h600v-160H180v160Zm220 220h160v-160H400v160Zm0 220h160v-160H400v160ZM180-400h160v-160H180v160Zm440 0h160v-160H620v160ZM180-180h160v-160H180v160Zm440 0h160v-160H620v160Z\"/>\n",
              "  </svg>\n",
              "    </button>\n",
              "\n",
              "  <style>\n",
              "    .colab-df-container {\n",
              "      display:flex;\n",
              "      gap: 12px;\n",
              "    }\n",
              "\n",
              "    .colab-df-convert {\n",
              "      background-color: #E8F0FE;\n",
              "      border: none;\n",
              "      border-radius: 50%;\n",
              "      cursor: pointer;\n",
              "      display: none;\n",
              "      fill: #1967D2;\n",
              "      height: 32px;\n",
              "      padding: 0 0 0 0;\n",
              "      width: 32px;\n",
              "    }\n",
              "\n",
              "    .colab-df-convert:hover {\n",
              "      background-color: #E2EBFA;\n",
              "      box-shadow: 0px 1px 2px rgba(60, 64, 67, 0.3), 0px 1px 3px 1px rgba(60, 64, 67, 0.15);\n",
              "      fill: #174EA6;\n",
              "    }\n",
              "\n",
              "    .colab-df-buttons div {\n",
              "      margin-bottom: 4px;\n",
              "    }\n",
              "\n",
              "    [theme=dark] .colab-df-convert {\n",
              "      background-color: #3B4455;\n",
              "      fill: #D2E3FC;\n",
              "    }\n",
              "\n",
              "    [theme=dark] .colab-df-convert:hover {\n",
              "      background-color: #434B5C;\n",
              "      box-shadow: 0px 1px 3px 1px rgba(0, 0, 0, 0.15);\n",
              "      filter: drop-shadow(0px 1px 2px rgba(0, 0, 0, 0.3));\n",
              "      fill: #FFFFFF;\n",
              "    }\n",
              "  </style>\n",
              "\n",
              "    <script>\n",
              "      const buttonEl =\n",
              "        document.querySelector('#df-319188cf-f02d-42cf-b479-e73418d300e4 button.colab-df-convert');\n",
              "      buttonEl.style.display =\n",
              "        google.colab.kernel.accessAllowed ? 'block' : 'none';\n",
              "\n",
              "      async function convertToInteractive(key) {\n",
              "        const element = document.querySelector('#df-319188cf-f02d-42cf-b479-e73418d300e4');\n",
              "        const dataTable =\n",
              "          await google.colab.kernel.invokeFunction('convertToInteractive',\n",
              "                                                    [key], {});\n",
              "        if (!dataTable) return;\n",
              "\n",
              "        const docLinkHtml = 'Like what you see? Visit the ' +\n",
              "          '<a target=\"_blank\" href=https://colab.research.google.com/notebooks/data_table.ipynb>data table notebook</a>'\n",
              "          + ' to learn more about interactive tables.';\n",
              "        element.innerHTML = '';\n",
              "        dataTable['output_type'] = 'display_data';\n",
              "        await google.colab.output.renderOutput(dataTable, element);\n",
              "        const docLink = document.createElement('div');\n",
              "        docLink.innerHTML = docLinkHtml;\n",
              "        element.appendChild(docLink);\n",
              "      }\n",
              "    </script>\n",
              "  </div>\n",
              "\n",
              "\n",
              "<div id=\"df-0f27149f-b161-4f6d-b731-e9644d4d58b1\">\n",
              "  <button class=\"colab-df-quickchart\" onclick=\"quickchart('df-0f27149f-b161-4f6d-b731-e9644d4d58b1')\"\n",
              "            title=\"Suggest charts\"\n",
              "            style=\"display:none;\">\n",
              "\n",
              "<svg xmlns=\"http://www.w3.org/2000/svg\" height=\"24px\"viewBox=\"0 0 24 24\"\n",
              "     width=\"24px\">\n",
              "    <g>\n",
              "        <path d=\"M19 3H5c-1.1 0-2 .9-2 2v14c0 1.1.9 2 2 2h14c1.1 0 2-.9 2-2V5c0-1.1-.9-2-2-2zM9 17H7v-7h2v7zm4 0h-2V7h2v10zm4 0h-2v-4h2v4z\"/>\n",
              "    </g>\n",
              "</svg>\n",
              "  </button>\n",
              "\n",
              "<style>\n",
              "  .colab-df-quickchart {\n",
              "      --bg-color: #E8F0FE;\n",
              "      --fill-color: #1967D2;\n",
              "      --hover-bg-color: #E2EBFA;\n",
              "      --hover-fill-color: #174EA6;\n",
              "      --disabled-fill-color: #AAA;\n",
              "      --disabled-bg-color: #DDD;\n",
              "  }\n",
              "\n",
              "  [theme=dark] .colab-df-quickchart {\n",
              "      --bg-color: #3B4455;\n",
              "      --fill-color: #D2E3FC;\n",
              "      --hover-bg-color: #434B5C;\n",
              "      --hover-fill-color: #FFFFFF;\n",
              "      --disabled-bg-color: #3B4455;\n",
              "      --disabled-fill-color: #666;\n",
              "  }\n",
              "\n",
              "  .colab-df-quickchart {\n",
              "    background-color: var(--bg-color);\n",
              "    border: none;\n",
              "    border-radius: 50%;\n",
              "    cursor: pointer;\n",
              "    display: none;\n",
              "    fill: var(--fill-color);\n",
              "    height: 32px;\n",
              "    padding: 0;\n",
              "    width: 32px;\n",
              "  }\n",
              "\n",
              "  .colab-df-quickchart:hover {\n",
              "    background-color: var(--hover-bg-color);\n",
              "    box-shadow: 0 1px 2px rgba(60, 64, 67, 0.3), 0 1px 3px 1px rgba(60, 64, 67, 0.15);\n",
              "    fill: var(--button-hover-fill-color);\n",
              "  }\n",
              "\n",
              "  .colab-df-quickchart-complete:disabled,\n",
              "  .colab-df-quickchart-complete:disabled:hover {\n",
              "    background-color: var(--disabled-bg-color);\n",
              "    fill: var(--disabled-fill-color);\n",
              "    box-shadow: none;\n",
              "  }\n",
              "\n",
              "  .colab-df-spinner {\n",
              "    border: 2px solid var(--fill-color);\n",
              "    border-color: transparent;\n",
              "    border-bottom-color: var(--fill-color);\n",
              "    animation:\n",
              "      spin 1s steps(1) infinite;\n",
              "  }\n",
              "\n",
              "  @keyframes spin {\n",
              "    0% {\n",
              "      border-color: transparent;\n",
              "      border-bottom-color: var(--fill-color);\n",
              "      border-left-color: var(--fill-color);\n",
              "    }\n",
              "    20% {\n",
              "      border-color: transparent;\n",
              "      border-left-color: var(--fill-color);\n",
              "      border-top-color: var(--fill-color);\n",
              "    }\n",
              "    30% {\n",
              "      border-color: transparent;\n",
              "      border-left-color: var(--fill-color);\n",
              "      border-top-color: var(--fill-color);\n",
              "      border-right-color: var(--fill-color);\n",
              "    }\n",
              "    40% {\n",
              "      border-color: transparent;\n",
              "      border-right-color: var(--fill-color);\n",
              "      border-top-color: var(--fill-color);\n",
              "    }\n",
              "    60% {\n",
              "      border-color: transparent;\n",
              "      border-right-color: var(--fill-color);\n",
              "    }\n",
              "    80% {\n",
              "      border-color: transparent;\n",
              "      border-right-color: var(--fill-color);\n",
              "      border-bottom-color: var(--fill-color);\n",
              "    }\n",
              "    90% {\n",
              "      border-color: transparent;\n",
              "      border-bottom-color: var(--fill-color);\n",
              "    }\n",
              "  }\n",
              "</style>\n",
              "\n",
              "  <script>\n",
              "    async function quickchart(key) {\n",
              "      const quickchartButtonEl =\n",
              "        document.querySelector('#' + key + ' button');\n",
              "      quickchartButtonEl.disabled = true;  // To prevent multiple clicks.\n",
              "      quickchartButtonEl.classList.add('colab-df-spinner');\n",
              "      try {\n",
              "        const charts = await google.colab.kernel.invokeFunction(\n",
              "            'suggestCharts', [key], {});\n",
              "      } catch (error) {\n",
              "        console.error('Error during call to suggestCharts:', error);\n",
              "      }\n",
              "      quickchartButtonEl.classList.remove('colab-df-spinner');\n",
              "      quickchartButtonEl.classList.add('colab-df-quickchart-complete');\n",
              "    }\n",
              "    (() => {\n",
              "      let quickchartButtonEl =\n",
              "        document.querySelector('#df-0f27149f-b161-4f6d-b731-e9644d4d58b1 button');\n",
              "      quickchartButtonEl.style.display =\n",
              "        google.colab.kernel.accessAllowed ? 'block' : 'none';\n",
              "    })();\n",
              "  </script>\n",
              "</div>\n",
              "    </div>\n",
              "  </div>\n"
            ]
          },
          "metadata": {},
          "execution_count": 103
        }
      ]
    },
    {
      "cell_type": "code",
      "source": [
        "gossip_tn.head(5)"
      ],
      "metadata": {
        "colab": {
          "base_uri": "https://localhost:8080/",
          "height": 206
        },
        "id": "KrT8gbBx5HGD",
        "outputId": "56e80fdd-f7b8-40eb-f239-33d98a675c11"
      },
      "execution_count": null,
      "outputs": [
        {
          "output_type": "execute_result",
          "data": {
            "text/plain": [
              "                 id                                           news_url  \\\n",
              "0  gossipcop-882573  https://www.brides.com/story/teen-mom-jenelle-...   \n",
              "1  gossipcop-875924  https://www.dailymail.co.uk/tvshowbiz/article-...   \n",
              "2  gossipcop-894416        https://en.wikipedia.org/wiki/Quinn_Perkins   \n",
              "3  gossipcop-857248  https://www.refinery29.com/en-us/2018/03/19192...   \n",
              "4  gossipcop-884684  https://www.cnn.com/2017/10/04/entertainment/c...   \n",
              "\n",
              "                                               title  \\\n",
              "0  Teen Mom Star Jenelle Evans' Wedding Dress Is ...   \n",
              "1  Kylie Jenner refusing to discuss Tyga on Life ...   \n",
              "2                                      Quinn Perkins   \n",
              "3  I Tried Kim Kardashian's Butt Workout & Am For...   \n",
              "4  Celine Dion donates concert proceeds to Vegas ...   \n",
              "\n",
              "                                           tweet_ids  \n",
              "0  912371411146149888\\t912371528343408641\\t912372...  \n",
              "1  901989917546426369\\t901989992074969089\\t901990...  \n",
              "2  931263637246881792\\t931265332022579201\\t931265...  \n",
              "3  868114761723936769\\t868122567910936576\\t868128...  \n",
              "4  915528047004209152\\t915529285171122176\\t915530...  "
            ],
            "text/html": [
              "\n",
              "  <div id=\"df-f5617f15-2bf4-4d77-8e83-eb25726337f6\" class=\"colab-df-container\">\n",
              "    <div>\n",
              "<style scoped>\n",
              "    .dataframe tbody tr th:only-of-type {\n",
              "        vertical-align: middle;\n",
              "    }\n",
              "\n",
              "    .dataframe tbody tr th {\n",
              "        vertical-align: top;\n",
              "    }\n",
              "\n",
              "    .dataframe thead th {\n",
              "        text-align: right;\n",
              "    }\n",
              "</style>\n",
              "<table border=\"1\" class=\"dataframe\">\n",
              "  <thead>\n",
              "    <tr style=\"text-align: right;\">\n",
              "      <th></th>\n",
              "      <th>id</th>\n",
              "      <th>news_url</th>\n",
              "      <th>title</th>\n",
              "      <th>tweet_ids</th>\n",
              "    </tr>\n",
              "  </thead>\n",
              "  <tbody>\n",
              "    <tr>\n",
              "      <th>0</th>\n",
              "      <td>gossipcop-882573</td>\n",
              "      <td>https://www.brides.com/story/teen-mom-jenelle-...</td>\n",
              "      <td>Teen Mom Star Jenelle Evans' Wedding Dress Is ...</td>\n",
              "      <td>912371411146149888\\t912371528343408641\\t912372...</td>\n",
              "    </tr>\n",
              "    <tr>\n",
              "      <th>1</th>\n",
              "      <td>gossipcop-875924</td>\n",
              "      <td>https://www.dailymail.co.uk/tvshowbiz/article-...</td>\n",
              "      <td>Kylie Jenner refusing to discuss Tyga on Life ...</td>\n",
              "      <td>901989917546426369\\t901989992074969089\\t901990...</td>\n",
              "    </tr>\n",
              "    <tr>\n",
              "      <th>2</th>\n",
              "      <td>gossipcop-894416</td>\n",
              "      <td>https://en.wikipedia.org/wiki/Quinn_Perkins</td>\n",
              "      <td>Quinn Perkins</td>\n",
              "      <td>931263637246881792\\t931265332022579201\\t931265...</td>\n",
              "    </tr>\n",
              "    <tr>\n",
              "      <th>3</th>\n",
              "      <td>gossipcop-857248</td>\n",
              "      <td>https://www.refinery29.com/en-us/2018/03/19192...</td>\n",
              "      <td>I Tried Kim Kardashian's Butt Workout &amp; Am For...</td>\n",
              "      <td>868114761723936769\\t868122567910936576\\t868128...</td>\n",
              "    </tr>\n",
              "    <tr>\n",
              "      <th>4</th>\n",
              "      <td>gossipcop-884684</td>\n",
              "      <td>https://www.cnn.com/2017/10/04/entertainment/c...</td>\n",
              "      <td>Celine Dion donates concert proceeds to Vegas ...</td>\n",
              "      <td>915528047004209152\\t915529285171122176\\t915530...</td>\n",
              "    </tr>\n",
              "  </tbody>\n",
              "</table>\n",
              "</div>\n",
              "    <div class=\"colab-df-buttons\">\n",
              "\n",
              "  <div class=\"colab-df-container\">\n",
              "    <button class=\"colab-df-convert\" onclick=\"convertToInteractive('df-f5617f15-2bf4-4d77-8e83-eb25726337f6')\"\n",
              "            title=\"Convert this dataframe to an interactive table.\"\n",
              "            style=\"display:none;\">\n",
              "\n",
              "  <svg xmlns=\"http://www.w3.org/2000/svg\" height=\"24px\" viewBox=\"0 -960 960 960\">\n",
              "    <path d=\"M120-120v-720h720v720H120Zm60-500h600v-160H180v160Zm220 220h160v-160H400v160Zm0 220h160v-160H400v160ZM180-400h160v-160H180v160Zm440 0h160v-160H620v160ZM180-180h160v-160H180v160Zm440 0h160v-160H620v160Z\"/>\n",
              "  </svg>\n",
              "    </button>\n",
              "\n",
              "  <style>\n",
              "    .colab-df-container {\n",
              "      display:flex;\n",
              "      gap: 12px;\n",
              "    }\n",
              "\n",
              "    .colab-df-convert {\n",
              "      background-color: #E8F0FE;\n",
              "      border: none;\n",
              "      border-radius: 50%;\n",
              "      cursor: pointer;\n",
              "      display: none;\n",
              "      fill: #1967D2;\n",
              "      height: 32px;\n",
              "      padding: 0 0 0 0;\n",
              "      width: 32px;\n",
              "    }\n",
              "\n",
              "    .colab-df-convert:hover {\n",
              "      background-color: #E2EBFA;\n",
              "      box-shadow: 0px 1px 2px rgba(60, 64, 67, 0.3), 0px 1px 3px 1px rgba(60, 64, 67, 0.15);\n",
              "      fill: #174EA6;\n",
              "    }\n",
              "\n",
              "    .colab-df-buttons div {\n",
              "      margin-bottom: 4px;\n",
              "    }\n",
              "\n",
              "    [theme=dark] .colab-df-convert {\n",
              "      background-color: #3B4455;\n",
              "      fill: #D2E3FC;\n",
              "    }\n",
              "\n",
              "    [theme=dark] .colab-df-convert:hover {\n",
              "      background-color: #434B5C;\n",
              "      box-shadow: 0px 1px 3px 1px rgba(0, 0, 0, 0.15);\n",
              "      filter: drop-shadow(0px 1px 2px rgba(0, 0, 0, 0.3));\n",
              "      fill: #FFFFFF;\n",
              "    }\n",
              "  </style>\n",
              "\n",
              "    <script>\n",
              "      const buttonEl =\n",
              "        document.querySelector('#df-f5617f15-2bf4-4d77-8e83-eb25726337f6 button.colab-df-convert');\n",
              "      buttonEl.style.display =\n",
              "        google.colab.kernel.accessAllowed ? 'block' : 'none';\n",
              "\n",
              "      async function convertToInteractive(key) {\n",
              "        const element = document.querySelector('#df-f5617f15-2bf4-4d77-8e83-eb25726337f6');\n",
              "        const dataTable =\n",
              "          await google.colab.kernel.invokeFunction('convertToInteractive',\n",
              "                                                    [key], {});\n",
              "        if (!dataTable) return;\n",
              "\n",
              "        const docLinkHtml = 'Like what you see? Visit the ' +\n",
              "          '<a target=\"_blank\" href=https://colab.research.google.com/notebooks/data_table.ipynb>data table notebook</a>'\n",
              "          + ' to learn more about interactive tables.';\n",
              "        element.innerHTML = '';\n",
              "        dataTable['output_type'] = 'display_data';\n",
              "        await google.colab.output.renderOutput(dataTable, element);\n",
              "        const docLink = document.createElement('div');\n",
              "        docLink.innerHTML = docLinkHtml;\n",
              "        element.appendChild(docLink);\n",
              "      }\n",
              "    </script>\n",
              "  </div>\n",
              "\n",
              "\n",
              "<div id=\"df-7b176cd9-0af9-4e6d-8d06-9409f4f5d1ea\">\n",
              "  <button class=\"colab-df-quickchart\" onclick=\"quickchart('df-7b176cd9-0af9-4e6d-8d06-9409f4f5d1ea')\"\n",
              "            title=\"Suggest charts\"\n",
              "            style=\"display:none;\">\n",
              "\n",
              "<svg xmlns=\"http://www.w3.org/2000/svg\" height=\"24px\"viewBox=\"0 0 24 24\"\n",
              "     width=\"24px\">\n",
              "    <g>\n",
              "        <path d=\"M19 3H5c-1.1 0-2 .9-2 2v14c0 1.1.9 2 2 2h14c1.1 0 2-.9 2-2V5c0-1.1-.9-2-2-2zM9 17H7v-7h2v7zm4 0h-2V7h2v10zm4 0h-2v-4h2v4z\"/>\n",
              "    </g>\n",
              "</svg>\n",
              "  </button>\n",
              "\n",
              "<style>\n",
              "  .colab-df-quickchart {\n",
              "      --bg-color: #E8F0FE;\n",
              "      --fill-color: #1967D2;\n",
              "      --hover-bg-color: #E2EBFA;\n",
              "      --hover-fill-color: #174EA6;\n",
              "      --disabled-fill-color: #AAA;\n",
              "      --disabled-bg-color: #DDD;\n",
              "  }\n",
              "\n",
              "  [theme=dark] .colab-df-quickchart {\n",
              "      --bg-color: #3B4455;\n",
              "      --fill-color: #D2E3FC;\n",
              "      --hover-bg-color: #434B5C;\n",
              "      --hover-fill-color: #FFFFFF;\n",
              "      --disabled-bg-color: #3B4455;\n",
              "      --disabled-fill-color: #666;\n",
              "  }\n",
              "\n",
              "  .colab-df-quickchart {\n",
              "    background-color: var(--bg-color);\n",
              "    border: none;\n",
              "    border-radius: 50%;\n",
              "    cursor: pointer;\n",
              "    display: none;\n",
              "    fill: var(--fill-color);\n",
              "    height: 32px;\n",
              "    padding: 0;\n",
              "    width: 32px;\n",
              "  }\n",
              "\n",
              "  .colab-df-quickchart:hover {\n",
              "    background-color: var(--hover-bg-color);\n",
              "    box-shadow: 0 1px 2px rgba(60, 64, 67, 0.3), 0 1px 3px 1px rgba(60, 64, 67, 0.15);\n",
              "    fill: var(--button-hover-fill-color);\n",
              "  }\n",
              "\n",
              "  .colab-df-quickchart-complete:disabled,\n",
              "  .colab-df-quickchart-complete:disabled:hover {\n",
              "    background-color: var(--disabled-bg-color);\n",
              "    fill: var(--disabled-fill-color);\n",
              "    box-shadow: none;\n",
              "  }\n",
              "\n",
              "  .colab-df-spinner {\n",
              "    border: 2px solid var(--fill-color);\n",
              "    border-color: transparent;\n",
              "    border-bottom-color: var(--fill-color);\n",
              "    animation:\n",
              "      spin 1s steps(1) infinite;\n",
              "  }\n",
              "\n",
              "  @keyframes spin {\n",
              "    0% {\n",
              "      border-color: transparent;\n",
              "      border-bottom-color: var(--fill-color);\n",
              "      border-left-color: var(--fill-color);\n",
              "    }\n",
              "    20% {\n",
              "      border-color: transparent;\n",
              "      border-left-color: var(--fill-color);\n",
              "      border-top-color: var(--fill-color);\n",
              "    }\n",
              "    30% {\n",
              "      border-color: transparent;\n",
              "      border-left-color: var(--fill-color);\n",
              "      border-top-color: var(--fill-color);\n",
              "      border-right-color: var(--fill-color);\n",
              "    }\n",
              "    40% {\n",
              "      border-color: transparent;\n",
              "      border-right-color: var(--fill-color);\n",
              "      border-top-color: var(--fill-color);\n",
              "    }\n",
              "    60% {\n",
              "      border-color: transparent;\n",
              "      border-right-color: var(--fill-color);\n",
              "    }\n",
              "    80% {\n",
              "      border-color: transparent;\n",
              "      border-right-color: var(--fill-color);\n",
              "      border-bottom-color: var(--fill-color);\n",
              "    }\n",
              "    90% {\n",
              "      border-color: transparent;\n",
              "      border-bottom-color: var(--fill-color);\n",
              "    }\n",
              "  }\n",
              "</style>\n",
              "\n",
              "  <script>\n",
              "    async function quickchart(key) {\n",
              "      const quickchartButtonEl =\n",
              "        document.querySelector('#' + key + ' button');\n",
              "      quickchartButtonEl.disabled = true;  // To prevent multiple clicks.\n",
              "      quickchartButtonEl.classList.add('colab-df-spinner');\n",
              "      try {\n",
              "        const charts = await google.colab.kernel.invokeFunction(\n",
              "            'suggestCharts', [key], {});\n",
              "      } catch (error) {\n",
              "        console.error('Error during call to suggestCharts:', error);\n",
              "      }\n",
              "      quickchartButtonEl.classList.remove('colab-df-spinner');\n",
              "      quickchartButtonEl.classList.add('colab-df-quickchart-complete');\n",
              "    }\n",
              "    (() => {\n",
              "      let quickchartButtonEl =\n",
              "        document.querySelector('#df-7b176cd9-0af9-4e6d-8d06-9409f4f5d1ea button');\n",
              "      quickchartButtonEl.style.display =\n",
              "        google.colab.kernel.accessAllowed ? 'block' : 'none';\n",
              "    })();\n",
              "  </script>\n",
              "</div>\n",
              "    </div>\n",
              "  </div>\n"
            ]
          },
          "metadata": {},
          "execution_count": 104
        }
      ]
    },
    {
      "cell_type": "code",
      "source": [
        "gossip_fn.shape, gossip_tn.shape"
      ],
      "metadata": {
        "colab": {
          "base_uri": "https://localhost:8080/"
        },
        "id": "ir2NbqXm467D",
        "outputId": "306bf6e6-8d63-4ec9-d420-ab7ffa6558fc"
      },
      "execution_count": null,
      "outputs": [
        {
          "output_type": "execute_result",
          "data": {
            "text/plain": [
              "(5323, 4)"
            ]
          },
          "metadata": {},
          "execution_count": 105
        }
      ]
    },
    {
      "cell_type": "code",
      "source": [
        "#Load Politifact Fake and Real News\n",
        "politi_fn = pd.read_csv(\"/content/drive/MyDrive/politifact_fake.csv\")\n",
        "politi_tn = pd.read_csv(\"/content/drive/MyDrive/politifact_real.csv\")"
      ],
      "metadata": {
        "id": "PiMdqRFc6TTV"
      },
      "execution_count": null,
      "outputs": []
    },
    {
      "cell_type": "code",
      "source": [
        "politi_fn.head(5)"
      ],
      "metadata": {
        "colab": {
          "base_uri": "https://localhost:8080/",
          "height": 206
        },
        "id": "CbXhj6TU6fNa",
        "outputId": "c24d5eda-b311-4e9f-b492-2a24e0d06a2c"
      },
      "execution_count": null,
      "outputs": [
        {
          "output_type": "execute_result",
          "data": {
            "text/plain": [
              "                id                                           news_url  \\\n",
              "0  politifact15014          speedtalk.com/forum/viewtopic.php?t=51650   \n",
              "1  politifact15156  politics2020.info/index.php/2018/03/13/court-o...   \n",
              "2  politifact14745  www.nscdscamps.org/blog/category/parenting/467...   \n",
              "3  politifact14355  https://howafrica.com/oscar-pistorius-attempts...   \n",
              "4  politifact15371  http://washingtonsources.org/trump-votes-for-d...   \n",
              "\n",
              "                                               title  \\\n",
              "0  BREAKING: First NFL Team Declares Bankruptcy O...   \n",
              "1  Court Orders Obama To Pay $400 Million In Rest...   \n",
              "2  UPDATE: Second Roy Moore Accuser Works For Mic...   \n",
              "3         Oscar Pistorius Attempts To Commit Suicide   \n",
              "4        Trump Votes For Death Penalty For Being Gay   \n",
              "\n",
              "                                           tweet_ids  \n",
              "0  937349434668498944\\t937379378006282240\\t937380...  \n",
              "1  972666281441878016\\t972678396575559680\\t972827...  \n",
              "2  929405740732870656\\t929439450400264192\\t929439...  \n",
              "3  886941526458347521\\t887011300278194176\\t887023...  \n",
              "4  915205698212040704\\t915242076681506816\\t915249...  "
            ],
            "text/html": [
              "\n",
              "  <div id=\"df-95092f42-8bb1-4538-81be-8faa59e58aa2\" class=\"colab-df-container\">\n",
              "    <div>\n",
              "<style scoped>\n",
              "    .dataframe tbody tr th:only-of-type {\n",
              "        vertical-align: middle;\n",
              "    }\n",
              "\n",
              "    .dataframe tbody tr th {\n",
              "        vertical-align: top;\n",
              "    }\n",
              "\n",
              "    .dataframe thead th {\n",
              "        text-align: right;\n",
              "    }\n",
              "</style>\n",
              "<table border=\"1\" class=\"dataframe\">\n",
              "  <thead>\n",
              "    <tr style=\"text-align: right;\">\n",
              "      <th></th>\n",
              "      <th>id</th>\n",
              "      <th>news_url</th>\n",
              "      <th>title</th>\n",
              "      <th>tweet_ids</th>\n",
              "    </tr>\n",
              "  </thead>\n",
              "  <tbody>\n",
              "    <tr>\n",
              "      <th>0</th>\n",
              "      <td>politifact15014</td>\n",
              "      <td>speedtalk.com/forum/viewtopic.php?t=51650</td>\n",
              "      <td>BREAKING: First NFL Team Declares Bankruptcy O...</td>\n",
              "      <td>937349434668498944\\t937379378006282240\\t937380...</td>\n",
              "    </tr>\n",
              "    <tr>\n",
              "      <th>1</th>\n",
              "      <td>politifact15156</td>\n",
              "      <td>politics2020.info/index.php/2018/03/13/court-o...</td>\n",
              "      <td>Court Orders Obama To Pay $400 Million In Rest...</td>\n",
              "      <td>972666281441878016\\t972678396575559680\\t972827...</td>\n",
              "    </tr>\n",
              "    <tr>\n",
              "      <th>2</th>\n",
              "      <td>politifact14745</td>\n",
              "      <td>www.nscdscamps.org/blog/category/parenting/467...</td>\n",
              "      <td>UPDATE: Second Roy Moore Accuser Works For Mic...</td>\n",
              "      <td>929405740732870656\\t929439450400264192\\t929439...</td>\n",
              "    </tr>\n",
              "    <tr>\n",
              "      <th>3</th>\n",
              "      <td>politifact14355</td>\n",
              "      <td>https://howafrica.com/oscar-pistorius-attempts...</td>\n",
              "      <td>Oscar Pistorius Attempts To Commit Suicide</td>\n",
              "      <td>886941526458347521\\t887011300278194176\\t887023...</td>\n",
              "    </tr>\n",
              "    <tr>\n",
              "      <th>4</th>\n",
              "      <td>politifact15371</td>\n",
              "      <td>http://washingtonsources.org/trump-votes-for-d...</td>\n",
              "      <td>Trump Votes For Death Penalty For Being Gay</td>\n",
              "      <td>915205698212040704\\t915242076681506816\\t915249...</td>\n",
              "    </tr>\n",
              "  </tbody>\n",
              "</table>\n",
              "</div>\n",
              "    <div class=\"colab-df-buttons\">\n",
              "\n",
              "  <div class=\"colab-df-container\">\n",
              "    <button class=\"colab-df-convert\" onclick=\"convertToInteractive('df-95092f42-8bb1-4538-81be-8faa59e58aa2')\"\n",
              "            title=\"Convert this dataframe to an interactive table.\"\n",
              "            style=\"display:none;\">\n",
              "\n",
              "  <svg xmlns=\"http://www.w3.org/2000/svg\" height=\"24px\" viewBox=\"0 -960 960 960\">\n",
              "    <path d=\"M120-120v-720h720v720H120Zm60-500h600v-160H180v160Zm220 220h160v-160H400v160Zm0 220h160v-160H400v160ZM180-400h160v-160H180v160Zm440 0h160v-160H620v160ZM180-180h160v-160H180v160Zm440 0h160v-160H620v160Z\"/>\n",
              "  </svg>\n",
              "    </button>\n",
              "\n",
              "  <style>\n",
              "    .colab-df-container {\n",
              "      display:flex;\n",
              "      gap: 12px;\n",
              "    }\n",
              "\n",
              "    .colab-df-convert {\n",
              "      background-color: #E8F0FE;\n",
              "      border: none;\n",
              "      border-radius: 50%;\n",
              "      cursor: pointer;\n",
              "      display: none;\n",
              "      fill: #1967D2;\n",
              "      height: 32px;\n",
              "      padding: 0 0 0 0;\n",
              "      width: 32px;\n",
              "    }\n",
              "\n",
              "    .colab-df-convert:hover {\n",
              "      background-color: #E2EBFA;\n",
              "      box-shadow: 0px 1px 2px rgba(60, 64, 67, 0.3), 0px 1px 3px 1px rgba(60, 64, 67, 0.15);\n",
              "      fill: #174EA6;\n",
              "    }\n",
              "\n",
              "    .colab-df-buttons div {\n",
              "      margin-bottom: 4px;\n",
              "    }\n",
              "\n",
              "    [theme=dark] .colab-df-convert {\n",
              "      background-color: #3B4455;\n",
              "      fill: #D2E3FC;\n",
              "    }\n",
              "\n",
              "    [theme=dark] .colab-df-convert:hover {\n",
              "      background-color: #434B5C;\n",
              "      box-shadow: 0px 1px 3px 1px rgba(0, 0, 0, 0.15);\n",
              "      filter: drop-shadow(0px 1px 2px rgba(0, 0, 0, 0.3));\n",
              "      fill: #FFFFFF;\n",
              "    }\n",
              "  </style>\n",
              "\n",
              "    <script>\n",
              "      const buttonEl =\n",
              "        document.querySelector('#df-95092f42-8bb1-4538-81be-8faa59e58aa2 button.colab-df-convert');\n",
              "      buttonEl.style.display =\n",
              "        google.colab.kernel.accessAllowed ? 'block' : 'none';\n",
              "\n",
              "      async function convertToInteractive(key) {\n",
              "        const element = document.querySelector('#df-95092f42-8bb1-4538-81be-8faa59e58aa2');\n",
              "        const dataTable =\n",
              "          await google.colab.kernel.invokeFunction('convertToInteractive',\n",
              "                                                    [key], {});\n",
              "        if (!dataTable) return;\n",
              "\n",
              "        const docLinkHtml = 'Like what you see? Visit the ' +\n",
              "          '<a target=\"_blank\" href=https://colab.research.google.com/notebooks/data_table.ipynb>data table notebook</a>'\n",
              "          + ' to learn more about interactive tables.';\n",
              "        element.innerHTML = '';\n",
              "        dataTable['output_type'] = 'display_data';\n",
              "        await google.colab.output.renderOutput(dataTable, element);\n",
              "        const docLink = document.createElement('div');\n",
              "        docLink.innerHTML = docLinkHtml;\n",
              "        element.appendChild(docLink);\n",
              "      }\n",
              "    </script>\n",
              "  </div>\n",
              "\n",
              "\n",
              "<div id=\"df-88dbdfbe-cce2-44eb-bc4f-26bd3dc16001\">\n",
              "  <button class=\"colab-df-quickchart\" onclick=\"quickchart('df-88dbdfbe-cce2-44eb-bc4f-26bd3dc16001')\"\n",
              "            title=\"Suggest charts\"\n",
              "            style=\"display:none;\">\n",
              "\n",
              "<svg xmlns=\"http://www.w3.org/2000/svg\" height=\"24px\"viewBox=\"0 0 24 24\"\n",
              "     width=\"24px\">\n",
              "    <g>\n",
              "        <path d=\"M19 3H5c-1.1 0-2 .9-2 2v14c0 1.1.9 2 2 2h14c1.1 0 2-.9 2-2V5c0-1.1-.9-2-2-2zM9 17H7v-7h2v7zm4 0h-2V7h2v10zm4 0h-2v-4h2v4z\"/>\n",
              "    </g>\n",
              "</svg>\n",
              "  </button>\n",
              "\n",
              "<style>\n",
              "  .colab-df-quickchart {\n",
              "      --bg-color: #E8F0FE;\n",
              "      --fill-color: #1967D2;\n",
              "      --hover-bg-color: #E2EBFA;\n",
              "      --hover-fill-color: #174EA6;\n",
              "      --disabled-fill-color: #AAA;\n",
              "      --disabled-bg-color: #DDD;\n",
              "  }\n",
              "\n",
              "  [theme=dark] .colab-df-quickchart {\n",
              "      --bg-color: #3B4455;\n",
              "      --fill-color: #D2E3FC;\n",
              "      --hover-bg-color: #434B5C;\n",
              "      --hover-fill-color: #FFFFFF;\n",
              "      --disabled-bg-color: #3B4455;\n",
              "      --disabled-fill-color: #666;\n",
              "  }\n",
              "\n",
              "  .colab-df-quickchart {\n",
              "    background-color: var(--bg-color);\n",
              "    border: none;\n",
              "    border-radius: 50%;\n",
              "    cursor: pointer;\n",
              "    display: none;\n",
              "    fill: var(--fill-color);\n",
              "    height: 32px;\n",
              "    padding: 0;\n",
              "    width: 32px;\n",
              "  }\n",
              "\n",
              "  .colab-df-quickchart:hover {\n",
              "    background-color: var(--hover-bg-color);\n",
              "    box-shadow: 0 1px 2px rgba(60, 64, 67, 0.3), 0 1px 3px 1px rgba(60, 64, 67, 0.15);\n",
              "    fill: var(--button-hover-fill-color);\n",
              "  }\n",
              "\n",
              "  .colab-df-quickchart-complete:disabled,\n",
              "  .colab-df-quickchart-complete:disabled:hover {\n",
              "    background-color: var(--disabled-bg-color);\n",
              "    fill: var(--disabled-fill-color);\n",
              "    box-shadow: none;\n",
              "  }\n",
              "\n",
              "  .colab-df-spinner {\n",
              "    border: 2px solid var(--fill-color);\n",
              "    border-color: transparent;\n",
              "    border-bottom-color: var(--fill-color);\n",
              "    animation:\n",
              "      spin 1s steps(1) infinite;\n",
              "  }\n",
              "\n",
              "  @keyframes spin {\n",
              "    0% {\n",
              "      border-color: transparent;\n",
              "      border-bottom-color: var(--fill-color);\n",
              "      border-left-color: var(--fill-color);\n",
              "    }\n",
              "    20% {\n",
              "      border-color: transparent;\n",
              "      border-left-color: var(--fill-color);\n",
              "      border-top-color: var(--fill-color);\n",
              "    }\n",
              "    30% {\n",
              "      border-color: transparent;\n",
              "      border-left-color: var(--fill-color);\n",
              "      border-top-color: var(--fill-color);\n",
              "      border-right-color: var(--fill-color);\n",
              "    }\n",
              "    40% {\n",
              "      border-color: transparent;\n",
              "      border-right-color: var(--fill-color);\n",
              "      border-top-color: var(--fill-color);\n",
              "    }\n",
              "    60% {\n",
              "      border-color: transparent;\n",
              "      border-right-color: var(--fill-color);\n",
              "    }\n",
              "    80% {\n",
              "      border-color: transparent;\n",
              "      border-right-color: var(--fill-color);\n",
              "      border-bottom-color: var(--fill-color);\n",
              "    }\n",
              "    90% {\n",
              "      border-color: transparent;\n",
              "      border-bottom-color: var(--fill-color);\n",
              "    }\n",
              "  }\n",
              "</style>\n",
              "\n",
              "  <script>\n",
              "    async function quickchart(key) {\n",
              "      const quickchartButtonEl =\n",
              "        document.querySelector('#' + key + ' button');\n",
              "      quickchartButtonEl.disabled = true;  // To prevent multiple clicks.\n",
              "      quickchartButtonEl.classList.add('colab-df-spinner');\n",
              "      try {\n",
              "        const charts = await google.colab.kernel.invokeFunction(\n",
              "            'suggestCharts', [key], {});\n",
              "      } catch (error) {\n",
              "        console.error('Error during call to suggestCharts:', error);\n",
              "      }\n",
              "      quickchartButtonEl.classList.remove('colab-df-spinner');\n",
              "      quickchartButtonEl.classList.add('colab-df-quickchart-complete');\n",
              "    }\n",
              "    (() => {\n",
              "      let quickchartButtonEl =\n",
              "        document.querySelector('#df-88dbdfbe-cce2-44eb-bc4f-26bd3dc16001 button');\n",
              "      quickchartButtonEl.style.display =\n",
              "        google.colab.kernel.accessAllowed ? 'block' : 'none';\n",
              "    })();\n",
              "  </script>\n",
              "</div>\n",
              "    </div>\n",
              "  </div>\n"
            ]
          },
          "metadata": {},
          "execution_count": 108
        }
      ]
    },
    {
      "cell_type": "code",
      "source": [
        "politi_tn.head(5)"
      ],
      "metadata": {
        "colab": {
          "base_uri": "https://localhost:8080/",
          "height": 206
        },
        "id": "TD-haCWy6iod",
        "outputId": "5adac608-bf31-4922-c2c5-8bf44dfbf567"
      },
      "execution_count": null,
      "outputs": [
        {
          "output_type": "execute_result",
          "data": {
            "text/plain": [
              "                id                                           news_url  \\\n",
              "0  politifact14984                          http://www.nfib-sbet.org/   \n",
              "1  politifact12944  http://www.cq.com/doc/newsmakertranscripts-494...   \n",
              "2    politifact333  https://web.archive.org/web/20080204072132/htt...   \n",
              "3   politifact4358  https://web.archive.org/web/20110811143753/htt...   \n",
              "4    politifact779  https://web.archive.org/web/20070820164107/htt...   \n",
              "\n",
              "                                               title  \\\n",
              "0        National Federation of Independent Business   \n",
              "1                        comments in Fayetteville NC   \n",
              "2  Romney makes pitch, hoping to close deal : Ele...   \n",
              "3  Democratic Leaders Say House Democrats Are Uni...   \n",
              "4    Budget of the United States Government, FY 2008   \n",
              "\n",
              "                                           tweet_ids  \n",
              "0  967132259869487105\\t967164368768196609\\t967215...  \n",
              "1  942953459\\t8980098198\\t16253717352\\t1668513250...  \n",
              "2                                                NaN  \n",
              "3                                                NaN  \n",
              "4  89804710374154240\\t91270460595109888\\t96039619...  "
            ],
            "text/html": [
              "\n",
              "  <div id=\"df-2f774f2a-bc64-4251-a4be-f4a59ec9311a\" class=\"colab-df-container\">\n",
              "    <div>\n",
              "<style scoped>\n",
              "    .dataframe tbody tr th:only-of-type {\n",
              "        vertical-align: middle;\n",
              "    }\n",
              "\n",
              "    .dataframe tbody tr th {\n",
              "        vertical-align: top;\n",
              "    }\n",
              "\n",
              "    .dataframe thead th {\n",
              "        text-align: right;\n",
              "    }\n",
              "</style>\n",
              "<table border=\"1\" class=\"dataframe\">\n",
              "  <thead>\n",
              "    <tr style=\"text-align: right;\">\n",
              "      <th></th>\n",
              "      <th>id</th>\n",
              "      <th>news_url</th>\n",
              "      <th>title</th>\n",
              "      <th>tweet_ids</th>\n",
              "    </tr>\n",
              "  </thead>\n",
              "  <tbody>\n",
              "    <tr>\n",
              "      <th>0</th>\n",
              "      <td>politifact14984</td>\n",
              "      <td>http://www.nfib-sbet.org/</td>\n",
              "      <td>National Federation of Independent Business</td>\n",
              "      <td>967132259869487105\\t967164368768196609\\t967215...</td>\n",
              "    </tr>\n",
              "    <tr>\n",
              "      <th>1</th>\n",
              "      <td>politifact12944</td>\n",
              "      <td>http://www.cq.com/doc/newsmakertranscripts-494...</td>\n",
              "      <td>comments in Fayetteville NC</td>\n",
              "      <td>942953459\\t8980098198\\t16253717352\\t1668513250...</td>\n",
              "    </tr>\n",
              "    <tr>\n",
              "      <th>2</th>\n",
              "      <td>politifact333</td>\n",
              "      <td>https://web.archive.org/web/20080204072132/htt...</td>\n",
              "      <td>Romney makes pitch, hoping to close deal : Ele...</td>\n",
              "      <td>NaN</td>\n",
              "    </tr>\n",
              "    <tr>\n",
              "      <th>3</th>\n",
              "      <td>politifact4358</td>\n",
              "      <td>https://web.archive.org/web/20110811143753/htt...</td>\n",
              "      <td>Democratic Leaders Say House Democrats Are Uni...</td>\n",
              "      <td>NaN</td>\n",
              "    </tr>\n",
              "    <tr>\n",
              "      <th>4</th>\n",
              "      <td>politifact779</td>\n",
              "      <td>https://web.archive.org/web/20070820164107/htt...</td>\n",
              "      <td>Budget of the United States Government, FY 2008</td>\n",
              "      <td>89804710374154240\\t91270460595109888\\t96039619...</td>\n",
              "    </tr>\n",
              "  </tbody>\n",
              "</table>\n",
              "</div>\n",
              "    <div class=\"colab-df-buttons\">\n",
              "\n",
              "  <div class=\"colab-df-container\">\n",
              "    <button class=\"colab-df-convert\" onclick=\"convertToInteractive('df-2f774f2a-bc64-4251-a4be-f4a59ec9311a')\"\n",
              "            title=\"Convert this dataframe to an interactive table.\"\n",
              "            style=\"display:none;\">\n",
              "\n",
              "  <svg xmlns=\"http://www.w3.org/2000/svg\" height=\"24px\" viewBox=\"0 -960 960 960\">\n",
              "    <path d=\"M120-120v-720h720v720H120Zm60-500h600v-160H180v160Zm220 220h160v-160H400v160Zm0 220h160v-160H400v160ZM180-400h160v-160H180v160Zm440 0h160v-160H620v160ZM180-180h160v-160H180v160Zm440 0h160v-160H620v160Z\"/>\n",
              "  </svg>\n",
              "    </button>\n",
              "\n",
              "  <style>\n",
              "    .colab-df-container {\n",
              "      display:flex;\n",
              "      gap: 12px;\n",
              "    }\n",
              "\n",
              "    .colab-df-convert {\n",
              "      background-color: #E8F0FE;\n",
              "      border: none;\n",
              "      border-radius: 50%;\n",
              "      cursor: pointer;\n",
              "      display: none;\n",
              "      fill: #1967D2;\n",
              "      height: 32px;\n",
              "      padding: 0 0 0 0;\n",
              "      width: 32px;\n",
              "    }\n",
              "\n",
              "    .colab-df-convert:hover {\n",
              "      background-color: #E2EBFA;\n",
              "      box-shadow: 0px 1px 2px rgba(60, 64, 67, 0.3), 0px 1px 3px 1px rgba(60, 64, 67, 0.15);\n",
              "      fill: #174EA6;\n",
              "    }\n",
              "\n",
              "    .colab-df-buttons div {\n",
              "      margin-bottom: 4px;\n",
              "    }\n",
              "\n",
              "    [theme=dark] .colab-df-convert {\n",
              "      background-color: #3B4455;\n",
              "      fill: #D2E3FC;\n",
              "    }\n",
              "\n",
              "    [theme=dark] .colab-df-convert:hover {\n",
              "      background-color: #434B5C;\n",
              "      box-shadow: 0px 1px 3px 1px rgba(0, 0, 0, 0.15);\n",
              "      filter: drop-shadow(0px 1px 2px rgba(0, 0, 0, 0.3));\n",
              "      fill: #FFFFFF;\n",
              "    }\n",
              "  </style>\n",
              "\n",
              "    <script>\n",
              "      const buttonEl =\n",
              "        document.querySelector('#df-2f774f2a-bc64-4251-a4be-f4a59ec9311a button.colab-df-convert');\n",
              "      buttonEl.style.display =\n",
              "        google.colab.kernel.accessAllowed ? 'block' : 'none';\n",
              "\n",
              "      async function convertToInteractive(key) {\n",
              "        const element = document.querySelector('#df-2f774f2a-bc64-4251-a4be-f4a59ec9311a');\n",
              "        const dataTable =\n",
              "          await google.colab.kernel.invokeFunction('convertToInteractive',\n",
              "                                                    [key], {});\n",
              "        if (!dataTable) return;\n",
              "\n",
              "        const docLinkHtml = 'Like what you see? Visit the ' +\n",
              "          '<a target=\"_blank\" href=https://colab.research.google.com/notebooks/data_table.ipynb>data table notebook</a>'\n",
              "          + ' to learn more about interactive tables.';\n",
              "        element.innerHTML = '';\n",
              "        dataTable['output_type'] = 'display_data';\n",
              "        await google.colab.output.renderOutput(dataTable, element);\n",
              "        const docLink = document.createElement('div');\n",
              "        docLink.innerHTML = docLinkHtml;\n",
              "        element.appendChild(docLink);\n",
              "      }\n",
              "    </script>\n",
              "  </div>\n",
              "\n",
              "\n",
              "<div id=\"df-f5f46474-191f-4aeb-b602-2223f20f6abc\">\n",
              "  <button class=\"colab-df-quickchart\" onclick=\"quickchart('df-f5f46474-191f-4aeb-b602-2223f20f6abc')\"\n",
              "            title=\"Suggest charts\"\n",
              "            style=\"display:none;\">\n",
              "\n",
              "<svg xmlns=\"http://www.w3.org/2000/svg\" height=\"24px\"viewBox=\"0 0 24 24\"\n",
              "     width=\"24px\">\n",
              "    <g>\n",
              "        <path d=\"M19 3H5c-1.1 0-2 .9-2 2v14c0 1.1.9 2 2 2h14c1.1 0 2-.9 2-2V5c0-1.1-.9-2-2-2zM9 17H7v-7h2v7zm4 0h-2V7h2v10zm4 0h-2v-4h2v4z\"/>\n",
              "    </g>\n",
              "</svg>\n",
              "  </button>\n",
              "\n",
              "<style>\n",
              "  .colab-df-quickchart {\n",
              "      --bg-color: #E8F0FE;\n",
              "      --fill-color: #1967D2;\n",
              "      --hover-bg-color: #E2EBFA;\n",
              "      --hover-fill-color: #174EA6;\n",
              "      --disabled-fill-color: #AAA;\n",
              "      --disabled-bg-color: #DDD;\n",
              "  }\n",
              "\n",
              "  [theme=dark] .colab-df-quickchart {\n",
              "      --bg-color: #3B4455;\n",
              "      --fill-color: #D2E3FC;\n",
              "      --hover-bg-color: #434B5C;\n",
              "      --hover-fill-color: #FFFFFF;\n",
              "      --disabled-bg-color: #3B4455;\n",
              "      --disabled-fill-color: #666;\n",
              "  }\n",
              "\n",
              "  .colab-df-quickchart {\n",
              "    background-color: var(--bg-color);\n",
              "    border: none;\n",
              "    border-radius: 50%;\n",
              "    cursor: pointer;\n",
              "    display: none;\n",
              "    fill: var(--fill-color);\n",
              "    height: 32px;\n",
              "    padding: 0;\n",
              "    width: 32px;\n",
              "  }\n",
              "\n",
              "  .colab-df-quickchart:hover {\n",
              "    background-color: var(--hover-bg-color);\n",
              "    box-shadow: 0 1px 2px rgba(60, 64, 67, 0.3), 0 1px 3px 1px rgba(60, 64, 67, 0.15);\n",
              "    fill: var(--button-hover-fill-color);\n",
              "  }\n",
              "\n",
              "  .colab-df-quickchart-complete:disabled,\n",
              "  .colab-df-quickchart-complete:disabled:hover {\n",
              "    background-color: var(--disabled-bg-color);\n",
              "    fill: var(--disabled-fill-color);\n",
              "    box-shadow: none;\n",
              "  }\n",
              "\n",
              "  .colab-df-spinner {\n",
              "    border: 2px solid var(--fill-color);\n",
              "    border-color: transparent;\n",
              "    border-bottom-color: var(--fill-color);\n",
              "    animation:\n",
              "      spin 1s steps(1) infinite;\n",
              "  }\n",
              "\n",
              "  @keyframes spin {\n",
              "    0% {\n",
              "      border-color: transparent;\n",
              "      border-bottom-color: var(--fill-color);\n",
              "      border-left-color: var(--fill-color);\n",
              "    }\n",
              "    20% {\n",
              "      border-color: transparent;\n",
              "      border-left-color: var(--fill-color);\n",
              "      border-top-color: var(--fill-color);\n",
              "    }\n",
              "    30% {\n",
              "      border-color: transparent;\n",
              "      border-left-color: var(--fill-color);\n",
              "      border-top-color: var(--fill-color);\n",
              "      border-right-color: var(--fill-color);\n",
              "    }\n",
              "    40% {\n",
              "      border-color: transparent;\n",
              "      border-right-color: var(--fill-color);\n",
              "      border-top-color: var(--fill-color);\n",
              "    }\n",
              "    60% {\n",
              "      border-color: transparent;\n",
              "      border-right-color: var(--fill-color);\n",
              "    }\n",
              "    80% {\n",
              "      border-color: transparent;\n",
              "      border-right-color: var(--fill-color);\n",
              "      border-bottom-color: var(--fill-color);\n",
              "    }\n",
              "    90% {\n",
              "      border-color: transparent;\n",
              "      border-bottom-color: var(--fill-color);\n",
              "    }\n",
              "  }\n",
              "</style>\n",
              "\n",
              "  <script>\n",
              "    async function quickchart(key) {\n",
              "      const quickchartButtonEl =\n",
              "        document.querySelector('#' + key + ' button');\n",
              "      quickchartButtonEl.disabled = true;  // To prevent multiple clicks.\n",
              "      quickchartButtonEl.classList.add('colab-df-spinner');\n",
              "      try {\n",
              "        const charts = await google.colab.kernel.invokeFunction(\n",
              "            'suggestCharts', [key], {});\n",
              "      } catch (error) {\n",
              "        console.error('Error during call to suggestCharts:', error);\n",
              "      }\n",
              "      quickchartButtonEl.classList.remove('colab-df-spinner');\n",
              "      quickchartButtonEl.classList.add('colab-df-quickchart-complete');\n",
              "    }\n",
              "    (() => {\n",
              "      let quickchartButtonEl =\n",
              "        document.querySelector('#df-f5f46474-191f-4aeb-b602-2223f20f6abc button');\n",
              "      quickchartButtonEl.style.display =\n",
              "        google.colab.kernel.accessAllowed ? 'block' : 'none';\n",
              "    })();\n",
              "  </script>\n",
              "</div>\n",
              "    </div>\n",
              "  </div>\n"
            ]
          },
          "metadata": {},
          "execution_count": 109
        }
      ]
    },
    {
      "cell_type": "code",
      "source": [
        "politi_fn.shape, politi_tn.shape"
      ],
      "metadata": {
        "colab": {
          "base_uri": "https://localhost:8080/"
        },
        "id": "Y1-TNM7H6l6Z",
        "outputId": "dd91c191-a099-443e-bd6f-fc8ae5aac07d"
      },
      "execution_count": null,
      "outputs": [
        {
          "output_type": "execute_result",
          "data": {
            "text/plain": [
              "(432, 4)"
            ]
          },
          "metadata": {},
          "execution_count": 110
        }
      ]
    },
    {
      "cell_type": "markdown",
      "source": [
        "### Data Cleaning & Manipulation"
      ],
      "metadata": {
        "id": "xHxSDPE1UEkK"
      }
    },
    {
      "cell_type": "code",
      "source": [
        "import nltk\n",
        "import re\n",
        "import string\n",
        "from nltk.corpus import stopwords\n",
        "nltk.download('punkt')\n",
        "nltk.download('stopwords')\n",
        "from nltk.tokenize import word_tokenize"
      ],
      "metadata": {
        "colab": {
          "base_uri": "https://localhost:8080/"
        },
        "id": "sNWDsdubT05Y",
        "outputId": "bd046264-8d63-407e-8e45-fb557452969c"
      },
      "execution_count": null,
      "outputs": [
        {
          "output_type": "stream",
          "name": "stderr",
          "text": [
            "[nltk_data] Downloading package punkt to /root/nltk_data...\n",
            "[nltk_data]   Package punkt is already up-to-date!\n",
            "[nltk_data] Downloading package stopwords to /root/nltk_data...\n",
            "[nltk_data]   Package stopwords is already up-to-date!\n"
          ]
        }
      ]
    },
    {
      "cell_type": "code",
      "source": [
        "# Text cleaning - to lowercase, remove URLs, special characters, punctuations, stopwords, and emojis\n",
        "stop_words = stopwords.words()\n",
        "\n",
        "def cleaning(text):\n",
        "    # converting to lowercase\n",
        "    text = text.lower()\n",
        "\n",
        "    # removing URL links\n",
        "    text = re.sub('https?://\\S+|www\\.\\S+', '', text)\n",
        "\n",
        "    # removing special characters, punctuations\n",
        "    text = re.sub('<.*?>+', '', text)\n",
        "    text = re.sub('[%s]' % re.escape(string.punctuation), '', text)\n",
        "    text = re.sub('\\n', '', text)\n",
        "    text = re.sub(r'[^\\w\\s]', '', text)\n",
        "\n",
        "    # removing the emojies https://www.kaggle.com/alankritamishra/covid-19-tweet-sentiment-analysis#Sentiment-analysis\n",
        "    emoji_pattern = re.compile(\"[\"\n",
        "                           u\"\\U0001F600-\\U0001F64F\"  # emoticons\n",
        "                           u\"\\U0001F300-\\U0001F5FF\"  # symbols & pictographs\n",
        "                           u\"\\U0001F680-\\U0001F6FF\"  # transport & map symbols\n",
        "                           u\"\\U0001F1E0-\\U0001F1FF\"  # flags (iOS)\n",
        "                           u\"\\U00002702-\\U000027B0\"\n",
        "                           u\"\\U000024C2-\\U0001F251\"\n",
        "                           \"]+\", flags=re.UNICODE)\n",
        "    text = emoji_pattern.sub(r'', text)\n",
        "\n",
        "    # removing the stop-words\n",
        "    text_tokens = word_tokenize(text)\n",
        "    tokens_without_sw = [word for word in text_tokens if not word in stop_words]\n",
        "    filtered_sentence = (\" \").join(tokens_without_sw)\n",
        "    text = filtered_sentence\n",
        "\n",
        "    return text\n",
        "\n",
        "dt = gossip_tn['title'].apply(cleaning)"
      ],
      "metadata": {
        "id": "yt9uSxsdT13V"
      },
      "execution_count": null,
      "outputs": []
    },
    {
      "cell_type": "code",
      "source": [
        "#Combine GossipCop and Politifact FAKE news\n",
        "# id, news_url, title, tweet_ids\n",
        "fakenews = np.concatenate((politi_fn, gossip_fn))\n",
        "fakenews.shape"
      ],
      "metadata": {
        "colab": {
          "base_uri": "https://localhost:8080/"
        },
        "id": "v7iNON8q7kCy",
        "outputId": "24d3f2e5-ec38-4e6c-aee8-8d1195461fb1"
      },
      "execution_count": null,
      "outputs": [
        {
          "output_type": "execute_result",
          "data": {
            "text/plain": [
              "(5755, 4)"
            ]
          },
          "metadata": {},
          "execution_count": 114
        }
      ]
    },
    {
      "cell_type": "code",
      "source": [
        "#Combine GossipCop and Politifact REAL news\n",
        "realnews = np.concatenate((politi_tn, gossip_tn))\n",
        "realnews.shape"
      ],
      "metadata": {
        "colab": {
          "base_uri": "https://localhost:8080/"
        },
        "id": "22COYMRd8Zzr",
        "outputId": "a5141e6d-e8e6-4c91-8259-a76cdc227932"
      },
      "execution_count": null,
      "outputs": [
        {
          "output_type": "execute_result",
          "data": {
            "text/plain": [
              "(17441, 4)"
            ]
          },
          "metadata": {},
          "execution_count": 115
        }
      ]
    },
    {
      "cell_type": "code",
      "source": [
        "# Add Flag - 1 indicate FAKE news\n",
        "#fakenews.shape (5755, 2)\n",
        "ones = np.ones(fakenews.shape[0])\n",
        "fakenews = np.column_stack((fakenews, ones))\n",
        "fakenews = pd.DataFrame(fakenews, columns = ['id','news_url','title','tweet','flag'])"
      ],
      "metadata": {
        "id": "nirF00WvYCbB"
      },
      "execution_count": null,
      "outputs": []
    },
    {
      "cell_type": "code",
      "source": [
        "fakenews.head(5)"
      ],
      "metadata": {
        "colab": {
          "base_uri": "https://localhost:8080/",
          "height": 258
        },
        "id": "9YSn18WYZv5B",
        "outputId": "d29e6b7e-8f55-4c38-ebfe-aa2d984d7e72"
      },
      "execution_count": null,
      "outputs": [
        {
          "output_type": "execute_result",
          "data": {
            "text/plain": [
              "                id                                           news_url  \\\n",
              "0  politifact15014          speedtalk.com/forum/viewtopic.php?t=51650   \n",
              "1  politifact15156  politics2020.info/index.php/2018/03/13/court-o...   \n",
              "2  politifact14745  www.nscdscamps.org/blog/category/parenting/467...   \n",
              "3  politifact14355  https://howafrica.com/oscar-pistorius-attempts...   \n",
              "4  politifact15371  http://washingtonsources.org/trump-votes-for-d...   \n",
              "\n",
              "                                               title  \\\n",
              "0  BREAKING: First NFL Team Declares Bankruptcy O...   \n",
              "1  Court Orders Obama To Pay $400 Million In Rest...   \n",
              "2  UPDATE: Second Roy Moore Accuser Works For Mic...   \n",
              "3         Oscar Pistorius Attempts To Commit Suicide   \n",
              "4        Trump Votes For Death Penalty For Being Gay   \n",
              "\n",
              "                                               tweet flag  \n",
              "0  937349434668498944\\t937379378006282240\\t937380... 1.00  \n",
              "1  972666281441878016\\t972678396575559680\\t972827... 1.00  \n",
              "2  929405740732870656\\t929439450400264192\\t929439... 1.00  \n",
              "3  886941526458347521\\t887011300278194176\\t887023... 1.00  \n",
              "4  915205698212040704\\t915242076681506816\\t915249... 1.00  "
            ],
            "text/html": [
              "\n",
              "  <div id=\"df-2ffcaf05-934f-40cf-9d7d-1eb51e73193e\" class=\"colab-df-container\">\n",
              "    <div>\n",
              "<style scoped>\n",
              "    .dataframe tbody tr th:only-of-type {\n",
              "        vertical-align: middle;\n",
              "    }\n",
              "\n",
              "    .dataframe tbody tr th {\n",
              "        vertical-align: top;\n",
              "    }\n",
              "\n",
              "    .dataframe thead th {\n",
              "        text-align: right;\n",
              "    }\n",
              "</style>\n",
              "<table border=\"1\" class=\"dataframe\">\n",
              "  <thead>\n",
              "    <tr style=\"text-align: right;\">\n",
              "      <th></th>\n",
              "      <th>id</th>\n",
              "      <th>news_url</th>\n",
              "      <th>title</th>\n",
              "      <th>tweet</th>\n",
              "      <th>flag</th>\n",
              "    </tr>\n",
              "  </thead>\n",
              "  <tbody>\n",
              "    <tr>\n",
              "      <th>0</th>\n",
              "      <td>politifact15014</td>\n",
              "      <td>speedtalk.com/forum/viewtopic.php?t=51650</td>\n",
              "      <td>BREAKING: First NFL Team Declares Bankruptcy O...</td>\n",
              "      <td>937349434668498944\\t937379378006282240\\t937380...</td>\n",
              "      <td>1.00</td>\n",
              "    </tr>\n",
              "    <tr>\n",
              "      <th>1</th>\n",
              "      <td>politifact15156</td>\n",
              "      <td>politics2020.info/index.php/2018/03/13/court-o...</td>\n",
              "      <td>Court Orders Obama To Pay $400 Million In Rest...</td>\n",
              "      <td>972666281441878016\\t972678396575559680\\t972827...</td>\n",
              "      <td>1.00</td>\n",
              "    </tr>\n",
              "    <tr>\n",
              "      <th>2</th>\n",
              "      <td>politifact14745</td>\n",
              "      <td>www.nscdscamps.org/blog/category/parenting/467...</td>\n",
              "      <td>UPDATE: Second Roy Moore Accuser Works For Mic...</td>\n",
              "      <td>929405740732870656\\t929439450400264192\\t929439...</td>\n",
              "      <td>1.00</td>\n",
              "    </tr>\n",
              "    <tr>\n",
              "      <th>3</th>\n",
              "      <td>politifact14355</td>\n",
              "      <td>https://howafrica.com/oscar-pistorius-attempts...</td>\n",
              "      <td>Oscar Pistorius Attempts To Commit Suicide</td>\n",
              "      <td>886941526458347521\\t887011300278194176\\t887023...</td>\n",
              "      <td>1.00</td>\n",
              "    </tr>\n",
              "    <tr>\n",
              "      <th>4</th>\n",
              "      <td>politifact15371</td>\n",
              "      <td>http://washingtonsources.org/trump-votes-for-d...</td>\n",
              "      <td>Trump Votes For Death Penalty For Being Gay</td>\n",
              "      <td>915205698212040704\\t915242076681506816\\t915249...</td>\n",
              "      <td>1.00</td>\n",
              "    </tr>\n",
              "  </tbody>\n",
              "</table>\n",
              "</div>\n",
              "    <div class=\"colab-df-buttons\">\n",
              "\n",
              "  <div class=\"colab-df-container\">\n",
              "    <button class=\"colab-df-convert\" onclick=\"convertToInteractive('df-2ffcaf05-934f-40cf-9d7d-1eb51e73193e')\"\n",
              "            title=\"Convert this dataframe to an interactive table.\"\n",
              "            style=\"display:none;\">\n",
              "\n",
              "  <svg xmlns=\"http://www.w3.org/2000/svg\" height=\"24px\" viewBox=\"0 -960 960 960\">\n",
              "    <path d=\"M120-120v-720h720v720H120Zm60-500h600v-160H180v160Zm220 220h160v-160H400v160Zm0 220h160v-160H400v160ZM180-400h160v-160H180v160Zm440 0h160v-160H620v160ZM180-180h160v-160H180v160Zm440 0h160v-160H620v160Z\"/>\n",
              "  </svg>\n",
              "    </button>\n",
              "\n",
              "  <style>\n",
              "    .colab-df-container {\n",
              "      display:flex;\n",
              "      gap: 12px;\n",
              "    }\n",
              "\n",
              "    .colab-df-convert {\n",
              "      background-color: #E8F0FE;\n",
              "      border: none;\n",
              "      border-radius: 50%;\n",
              "      cursor: pointer;\n",
              "      display: none;\n",
              "      fill: #1967D2;\n",
              "      height: 32px;\n",
              "      padding: 0 0 0 0;\n",
              "      width: 32px;\n",
              "    }\n",
              "\n",
              "    .colab-df-convert:hover {\n",
              "      background-color: #E2EBFA;\n",
              "      box-shadow: 0px 1px 2px rgba(60, 64, 67, 0.3), 0px 1px 3px 1px rgba(60, 64, 67, 0.15);\n",
              "      fill: #174EA6;\n",
              "    }\n",
              "\n",
              "    .colab-df-buttons div {\n",
              "      margin-bottom: 4px;\n",
              "    }\n",
              "\n",
              "    [theme=dark] .colab-df-convert {\n",
              "      background-color: #3B4455;\n",
              "      fill: #D2E3FC;\n",
              "    }\n",
              "\n",
              "    [theme=dark] .colab-df-convert:hover {\n",
              "      background-color: #434B5C;\n",
              "      box-shadow: 0px 1px 3px 1px rgba(0, 0, 0, 0.15);\n",
              "      filter: drop-shadow(0px 1px 2px rgba(0, 0, 0, 0.3));\n",
              "      fill: #FFFFFF;\n",
              "    }\n",
              "  </style>\n",
              "\n",
              "    <script>\n",
              "      const buttonEl =\n",
              "        document.querySelector('#df-2ffcaf05-934f-40cf-9d7d-1eb51e73193e button.colab-df-convert');\n",
              "      buttonEl.style.display =\n",
              "        google.colab.kernel.accessAllowed ? 'block' : 'none';\n",
              "\n",
              "      async function convertToInteractive(key) {\n",
              "        const element = document.querySelector('#df-2ffcaf05-934f-40cf-9d7d-1eb51e73193e');\n",
              "        const dataTable =\n",
              "          await google.colab.kernel.invokeFunction('convertToInteractive',\n",
              "                                                    [key], {});\n",
              "        if (!dataTable) return;\n",
              "\n",
              "        const docLinkHtml = 'Like what you see? Visit the ' +\n",
              "          '<a target=\"_blank\" href=https://colab.research.google.com/notebooks/data_table.ipynb>data table notebook</a>'\n",
              "          + ' to learn more about interactive tables.';\n",
              "        element.innerHTML = '';\n",
              "        dataTable['output_type'] = 'display_data';\n",
              "        await google.colab.output.renderOutput(dataTable, element);\n",
              "        const docLink = document.createElement('div');\n",
              "        docLink.innerHTML = docLinkHtml;\n",
              "        element.appendChild(docLink);\n",
              "      }\n",
              "    </script>\n",
              "  </div>\n",
              "\n",
              "\n",
              "<div id=\"df-ab1eaf1e-df4e-471e-8210-30a6f1d53c96\">\n",
              "  <button class=\"colab-df-quickchart\" onclick=\"quickchart('df-ab1eaf1e-df4e-471e-8210-30a6f1d53c96')\"\n",
              "            title=\"Suggest charts\"\n",
              "            style=\"display:none;\">\n",
              "\n",
              "<svg xmlns=\"http://www.w3.org/2000/svg\" height=\"24px\"viewBox=\"0 0 24 24\"\n",
              "     width=\"24px\">\n",
              "    <g>\n",
              "        <path d=\"M19 3H5c-1.1 0-2 .9-2 2v14c0 1.1.9 2 2 2h14c1.1 0 2-.9 2-2V5c0-1.1-.9-2-2-2zM9 17H7v-7h2v7zm4 0h-2V7h2v10zm4 0h-2v-4h2v4z\"/>\n",
              "    </g>\n",
              "</svg>\n",
              "  </button>\n",
              "\n",
              "<style>\n",
              "  .colab-df-quickchart {\n",
              "      --bg-color: #E8F0FE;\n",
              "      --fill-color: #1967D2;\n",
              "      --hover-bg-color: #E2EBFA;\n",
              "      --hover-fill-color: #174EA6;\n",
              "      --disabled-fill-color: #AAA;\n",
              "      --disabled-bg-color: #DDD;\n",
              "  }\n",
              "\n",
              "  [theme=dark] .colab-df-quickchart {\n",
              "      --bg-color: #3B4455;\n",
              "      --fill-color: #D2E3FC;\n",
              "      --hover-bg-color: #434B5C;\n",
              "      --hover-fill-color: #FFFFFF;\n",
              "      --disabled-bg-color: #3B4455;\n",
              "      --disabled-fill-color: #666;\n",
              "  }\n",
              "\n",
              "  .colab-df-quickchart {\n",
              "    background-color: var(--bg-color);\n",
              "    border: none;\n",
              "    border-radius: 50%;\n",
              "    cursor: pointer;\n",
              "    display: none;\n",
              "    fill: var(--fill-color);\n",
              "    height: 32px;\n",
              "    padding: 0;\n",
              "    width: 32px;\n",
              "  }\n",
              "\n",
              "  .colab-df-quickchart:hover {\n",
              "    background-color: var(--hover-bg-color);\n",
              "    box-shadow: 0 1px 2px rgba(60, 64, 67, 0.3), 0 1px 3px 1px rgba(60, 64, 67, 0.15);\n",
              "    fill: var(--button-hover-fill-color);\n",
              "  }\n",
              "\n",
              "  .colab-df-quickchart-complete:disabled,\n",
              "  .colab-df-quickchart-complete:disabled:hover {\n",
              "    background-color: var(--disabled-bg-color);\n",
              "    fill: var(--disabled-fill-color);\n",
              "    box-shadow: none;\n",
              "  }\n",
              "\n",
              "  .colab-df-spinner {\n",
              "    border: 2px solid var(--fill-color);\n",
              "    border-color: transparent;\n",
              "    border-bottom-color: var(--fill-color);\n",
              "    animation:\n",
              "      spin 1s steps(1) infinite;\n",
              "  }\n",
              "\n",
              "  @keyframes spin {\n",
              "    0% {\n",
              "      border-color: transparent;\n",
              "      border-bottom-color: var(--fill-color);\n",
              "      border-left-color: var(--fill-color);\n",
              "    }\n",
              "    20% {\n",
              "      border-color: transparent;\n",
              "      border-left-color: var(--fill-color);\n",
              "      border-top-color: var(--fill-color);\n",
              "    }\n",
              "    30% {\n",
              "      border-color: transparent;\n",
              "      border-left-color: var(--fill-color);\n",
              "      border-top-color: var(--fill-color);\n",
              "      border-right-color: var(--fill-color);\n",
              "    }\n",
              "    40% {\n",
              "      border-color: transparent;\n",
              "      border-right-color: var(--fill-color);\n",
              "      border-top-color: var(--fill-color);\n",
              "    }\n",
              "    60% {\n",
              "      border-color: transparent;\n",
              "      border-right-color: var(--fill-color);\n",
              "    }\n",
              "    80% {\n",
              "      border-color: transparent;\n",
              "      border-right-color: var(--fill-color);\n",
              "      border-bottom-color: var(--fill-color);\n",
              "    }\n",
              "    90% {\n",
              "      border-color: transparent;\n",
              "      border-bottom-color: var(--fill-color);\n",
              "    }\n",
              "  }\n",
              "</style>\n",
              "\n",
              "  <script>\n",
              "    async function quickchart(key) {\n",
              "      const quickchartButtonEl =\n",
              "        document.querySelector('#' + key + ' button');\n",
              "      quickchartButtonEl.disabled = true;  // To prevent multiple clicks.\n",
              "      quickchartButtonEl.classList.add('colab-df-spinner');\n",
              "      try {\n",
              "        const charts = await google.colab.kernel.invokeFunction(\n",
              "            'suggestCharts', [key], {});\n",
              "      } catch (error) {\n",
              "        console.error('Error during call to suggestCharts:', error);\n",
              "      }\n",
              "      quickchartButtonEl.classList.remove('colab-df-spinner');\n",
              "      quickchartButtonEl.classList.add('colab-df-quickchart-complete');\n",
              "    }\n",
              "    (() => {\n",
              "      let quickchartButtonEl =\n",
              "        document.querySelector('#df-ab1eaf1e-df4e-471e-8210-30a6f1d53c96 button');\n",
              "      quickchartButtonEl.style.display =\n",
              "        google.colab.kernel.accessAllowed ? 'block' : 'none';\n",
              "    })();\n",
              "  </script>\n",
              "</div>\n",
              "    </div>\n",
              "  </div>\n"
            ]
          },
          "metadata": {},
          "execution_count": 117
        }
      ]
    },
    {
      "cell_type": "code",
      "source": [
        "# Add Flag - 0 indicate REAL news\n",
        "columns = ['id','news_url','title','tweet','flag']\n",
        "zeros = np.zeros(realnews.shape[0])\n",
        "realnews = np.column_stack((realnews, zeros))\n",
        "realnews = pd.DataFrame(realnews, columns = columns)"
      ],
      "metadata": {
        "id": "ZbDrCj2tZy9t"
      },
      "execution_count": null,
      "outputs": []
    },
    {
      "cell_type": "code",
      "source": [
        "realnews.head(5)"
      ],
      "metadata": {
        "id": "mbv7uT4LUc7t",
        "colab": {
          "base_uri": "https://localhost:8080/",
          "height": 258
        },
        "outputId": "7a50f2dc-73f8-432e-fa22-6090310f3c1a"
      },
      "execution_count": null,
      "outputs": [
        {
          "output_type": "execute_result",
          "data": {
            "text/plain": [
              "                id                                           news_url  \\\n",
              "0  politifact14984                          http://www.nfib-sbet.org/   \n",
              "1  politifact12944  http://www.cq.com/doc/newsmakertranscripts-494...   \n",
              "2    politifact333  https://web.archive.org/web/20080204072132/htt...   \n",
              "3   politifact4358  https://web.archive.org/web/20110811143753/htt...   \n",
              "4    politifact779  https://web.archive.org/web/20070820164107/htt...   \n",
              "\n",
              "                                               title  \\\n",
              "0        National Federation of Independent Business   \n",
              "1                        comments in Fayetteville NC   \n",
              "2  Romney makes pitch, hoping to close deal : Ele...   \n",
              "3  Democratic Leaders Say House Democrats Are Uni...   \n",
              "4    Budget of the United States Government, FY 2008   \n",
              "\n",
              "                                               tweet flag  \n",
              "0  967132259869487105\\t967164368768196609\\t967215... 0.00  \n",
              "1  942953459\\t8980098198\\t16253717352\\t1668513250... 0.00  \n",
              "2                                                NaN 0.00  \n",
              "3                                                NaN 0.00  \n",
              "4  89804710374154240\\t91270460595109888\\t96039619... 0.00  "
            ],
            "text/html": [
              "\n",
              "  <div id=\"df-4dc11af2-2d20-479b-ba46-52576c035ef2\" class=\"colab-df-container\">\n",
              "    <div>\n",
              "<style scoped>\n",
              "    .dataframe tbody tr th:only-of-type {\n",
              "        vertical-align: middle;\n",
              "    }\n",
              "\n",
              "    .dataframe tbody tr th {\n",
              "        vertical-align: top;\n",
              "    }\n",
              "\n",
              "    .dataframe thead th {\n",
              "        text-align: right;\n",
              "    }\n",
              "</style>\n",
              "<table border=\"1\" class=\"dataframe\">\n",
              "  <thead>\n",
              "    <tr style=\"text-align: right;\">\n",
              "      <th></th>\n",
              "      <th>id</th>\n",
              "      <th>news_url</th>\n",
              "      <th>title</th>\n",
              "      <th>tweet</th>\n",
              "      <th>flag</th>\n",
              "    </tr>\n",
              "  </thead>\n",
              "  <tbody>\n",
              "    <tr>\n",
              "      <th>0</th>\n",
              "      <td>politifact14984</td>\n",
              "      <td>http://www.nfib-sbet.org/</td>\n",
              "      <td>National Federation of Independent Business</td>\n",
              "      <td>967132259869487105\\t967164368768196609\\t967215...</td>\n",
              "      <td>0.00</td>\n",
              "    </tr>\n",
              "    <tr>\n",
              "      <th>1</th>\n",
              "      <td>politifact12944</td>\n",
              "      <td>http://www.cq.com/doc/newsmakertranscripts-494...</td>\n",
              "      <td>comments in Fayetteville NC</td>\n",
              "      <td>942953459\\t8980098198\\t16253717352\\t1668513250...</td>\n",
              "      <td>0.00</td>\n",
              "    </tr>\n",
              "    <tr>\n",
              "      <th>2</th>\n",
              "      <td>politifact333</td>\n",
              "      <td>https://web.archive.org/web/20080204072132/htt...</td>\n",
              "      <td>Romney makes pitch, hoping to close deal : Ele...</td>\n",
              "      <td>NaN</td>\n",
              "      <td>0.00</td>\n",
              "    </tr>\n",
              "    <tr>\n",
              "      <th>3</th>\n",
              "      <td>politifact4358</td>\n",
              "      <td>https://web.archive.org/web/20110811143753/htt...</td>\n",
              "      <td>Democratic Leaders Say House Democrats Are Uni...</td>\n",
              "      <td>NaN</td>\n",
              "      <td>0.00</td>\n",
              "    </tr>\n",
              "    <tr>\n",
              "      <th>4</th>\n",
              "      <td>politifact779</td>\n",
              "      <td>https://web.archive.org/web/20070820164107/htt...</td>\n",
              "      <td>Budget of the United States Government, FY 2008</td>\n",
              "      <td>89804710374154240\\t91270460595109888\\t96039619...</td>\n",
              "      <td>0.00</td>\n",
              "    </tr>\n",
              "  </tbody>\n",
              "</table>\n",
              "</div>\n",
              "    <div class=\"colab-df-buttons\">\n",
              "\n",
              "  <div class=\"colab-df-container\">\n",
              "    <button class=\"colab-df-convert\" onclick=\"convertToInteractive('df-4dc11af2-2d20-479b-ba46-52576c035ef2')\"\n",
              "            title=\"Convert this dataframe to an interactive table.\"\n",
              "            style=\"display:none;\">\n",
              "\n",
              "  <svg xmlns=\"http://www.w3.org/2000/svg\" height=\"24px\" viewBox=\"0 -960 960 960\">\n",
              "    <path d=\"M120-120v-720h720v720H120Zm60-500h600v-160H180v160Zm220 220h160v-160H400v160Zm0 220h160v-160H400v160ZM180-400h160v-160H180v160Zm440 0h160v-160H620v160ZM180-180h160v-160H180v160Zm440 0h160v-160H620v160Z\"/>\n",
              "  </svg>\n",
              "    </button>\n",
              "\n",
              "  <style>\n",
              "    .colab-df-container {\n",
              "      display:flex;\n",
              "      gap: 12px;\n",
              "    }\n",
              "\n",
              "    .colab-df-convert {\n",
              "      background-color: #E8F0FE;\n",
              "      border: none;\n",
              "      border-radius: 50%;\n",
              "      cursor: pointer;\n",
              "      display: none;\n",
              "      fill: #1967D2;\n",
              "      height: 32px;\n",
              "      padding: 0 0 0 0;\n",
              "      width: 32px;\n",
              "    }\n",
              "\n",
              "    .colab-df-convert:hover {\n",
              "      background-color: #E2EBFA;\n",
              "      box-shadow: 0px 1px 2px rgba(60, 64, 67, 0.3), 0px 1px 3px 1px rgba(60, 64, 67, 0.15);\n",
              "      fill: #174EA6;\n",
              "    }\n",
              "\n",
              "    .colab-df-buttons div {\n",
              "      margin-bottom: 4px;\n",
              "    }\n",
              "\n",
              "    [theme=dark] .colab-df-convert {\n",
              "      background-color: #3B4455;\n",
              "      fill: #D2E3FC;\n",
              "    }\n",
              "\n",
              "    [theme=dark] .colab-df-convert:hover {\n",
              "      background-color: #434B5C;\n",
              "      box-shadow: 0px 1px 3px 1px rgba(0, 0, 0, 0.15);\n",
              "      filter: drop-shadow(0px 1px 2px rgba(0, 0, 0, 0.3));\n",
              "      fill: #FFFFFF;\n",
              "    }\n",
              "  </style>\n",
              "\n",
              "    <script>\n",
              "      const buttonEl =\n",
              "        document.querySelector('#df-4dc11af2-2d20-479b-ba46-52576c035ef2 button.colab-df-convert');\n",
              "      buttonEl.style.display =\n",
              "        google.colab.kernel.accessAllowed ? 'block' : 'none';\n",
              "\n",
              "      async function convertToInteractive(key) {\n",
              "        const element = document.querySelector('#df-4dc11af2-2d20-479b-ba46-52576c035ef2');\n",
              "        const dataTable =\n",
              "          await google.colab.kernel.invokeFunction('convertToInteractive',\n",
              "                                                    [key], {});\n",
              "        if (!dataTable) return;\n",
              "\n",
              "        const docLinkHtml = 'Like what you see? Visit the ' +\n",
              "          '<a target=\"_blank\" href=https://colab.research.google.com/notebooks/data_table.ipynb>data table notebook</a>'\n",
              "          + ' to learn more about interactive tables.';\n",
              "        element.innerHTML = '';\n",
              "        dataTable['output_type'] = 'display_data';\n",
              "        await google.colab.output.renderOutput(dataTable, element);\n",
              "        const docLink = document.createElement('div');\n",
              "        docLink.innerHTML = docLinkHtml;\n",
              "        element.appendChild(docLink);\n",
              "      }\n",
              "    </script>\n",
              "  </div>\n",
              "\n",
              "\n",
              "<div id=\"df-410aaabe-7ea6-4dc4-b778-7fd0e3bb4909\">\n",
              "  <button class=\"colab-df-quickchart\" onclick=\"quickchart('df-410aaabe-7ea6-4dc4-b778-7fd0e3bb4909')\"\n",
              "            title=\"Suggest charts\"\n",
              "            style=\"display:none;\">\n",
              "\n",
              "<svg xmlns=\"http://www.w3.org/2000/svg\" height=\"24px\"viewBox=\"0 0 24 24\"\n",
              "     width=\"24px\">\n",
              "    <g>\n",
              "        <path d=\"M19 3H5c-1.1 0-2 .9-2 2v14c0 1.1.9 2 2 2h14c1.1 0 2-.9 2-2V5c0-1.1-.9-2-2-2zM9 17H7v-7h2v7zm4 0h-2V7h2v10zm4 0h-2v-4h2v4z\"/>\n",
              "    </g>\n",
              "</svg>\n",
              "  </button>\n",
              "\n",
              "<style>\n",
              "  .colab-df-quickchart {\n",
              "      --bg-color: #E8F0FE;\n",
              "      --fill-color: #1967D2;\n",
              "      --hover-bg-color: #E2EBFA;\n",
              "      --hover-fill-color: #174EA6;\n",
              "      --disabled-fill-color: #AAA;\n",
              "      --disabled-bg-color: #DDD;\n",
              "  }\n",
              "\n",
              "  [theme=dark] .colab-df-quickchart {\n",
              "      --bg-color: #3B4455;\n",
              "      --fill-color: #D2E3FC;\n",
              "      --hover-bg-color: #434B5C;\n",
              "      --hover-fill-color: #FFFFFF;\n",
              "      --disabled-bg-color: #3B4455;\n",
              "      --disabled-fill-color: #666;\n",
              "  }\n",
              "\n",
              "  .colab-df-quickchart {\n",
              "    background-color: var(--bg-color);\n",
              "    border: none;\n",
              "    border-radius: 50%;\n",
              "    cursor: pointer;\n",
              "    display: none;\n",
              "    fill: var(--fill-color);\n",
              "    height: 32px;\n",
              "    padding: 0;\n",
              "    width: 32px;\n",
              "  }\n",
              "\n",
              "  .colab-df-quickchart:hover {\n",
              "    background-color: var(--hover-bg-color);\n",
              "    box-shadow: 0 1px 2px rgba(60, 64, 67, 0.3), 0 1px 3px 1px rgba(60, 64, 67, 0.15);\n",
              "    fill: var(--button-hover-fill-color);\n",
              "  }\n",
              "\n",
              "  .colab-df-quickchart-complete:disabled,\n",
              "  .colab-df-quickchart-complete:disabled:hover {\n",
              "    background-color: var(--disabled-bg-color);\n",
              "    fill: var(--disabled-fill-color);\n",
              "    box-shadow: none;\n",
              "  }\n",
              "\n",
              "  .colab-df-spinner {\n",
              "    border: 2px solid var(--fill-color);\n",
              "    border-color: transparent;\n",
              "    border-bottom-color: var(--fill-color);\n",
              "    animation:\n",
              "      spin 1s steps(1) infinite;\n",
              "  }\n",
              "\n",
              "  @keyframes spin {\n",
              "    0% {\n",
              "      border-color: transparent;\n",
              "      border-bottom-color: var(--fill-color);\n",
              "      border-left-color: var(--fill-color);\n",
              "    }\n",
              "    20% {\n",
              "      border-color: transparent;\n",
              "      border-left-color: var(--fill-color);\n",
              "      border-top-color: var(--fill-color);\n",
              "    }\n",
              "    30% {\n",
              "      border-color: transparent;\n",
              "      border-left-color: var(--fill-color);\n",
              "      border-top-color: var(--fill-color);\n",
              "      border-right-color: var(--fill-color);\n",
              "    }\n",
              "    40% {\n",
              "      border-color: transparent;\n",
              "      border-right-color: var(--fill-color);\n",
              "      border-top-color: var(--fill-color);\n",
              "    }\n",
              "    60% {\n",
              "      border-color: transparent;\n",
              "      border-right-color: var(--fill-color);\n",
              "    }\n",
              "    80% {\n",
              "      border-color: transparent;\n",
              "      border-right-color: var(--fill-color);\n",
              "      border-bottom-color: var(--fill-color);\n",
              "    }\n",
              "    90% {\n",
              "      border-color: transparent;\n",
              "      border-bottom-color: var(--fill-color);\n",
              "    }\n",
              "  }\n",
              "</style>\n",
              "\n",
              "  <script>\n",
              "    async function quickchart(key) {\n",
              "      const quickchartButtonEl =\n",
              "        document.querySelector('#' + key + ' button');\n",
              "      quickchartButtonEl.disabled = true;  // To prevent multiple clicks.\n",
              "      quickchartButtonEl.classList.add('colab-df-spinner');\n",
              "      try {\n",
              "        const charts = await google.colab.kernel.invokeFunction(\n",
              "            'suggestCharts', [key], {});\n",
              "      } catch (error) {\n",
              "        console.error('Error during call to suggestCharts:', error);\n",
              "      }\n",
              "      quickchartButtonEl.classList.remove('colab-df-spinner');\n",
              "      quickchartButtonEl.classList.add('colab-df-quickchart-complete');\n",
              "    }\n",
              "    (() => {\n",
              "      let quickchartButtonEl =\n",
              "        document.querySelector('#df-410aaabe-7ea6-4dc4-b778-7fd0e3bb4909 button');\n",
              "      quickchartButtonEl.style.display =\n",
              "        google.colab.kernel.accessAllowed ? 'block' : 'none';\n",
              "    })();\n",
              "  </script>\n",
              "</div>\n",
              "    </div>\n",
              "  </div>\n"
            ]
          },
          "metadata": {},
          "execution_count": 119
        }
      ]
    },
    {
      "cell_type": "code",
      "source": [
        "fakenews = fakenews.fillna(\" \")\n",
        "realnews = realnews.fillna(\" \")"
      ],
      "metadata": {
        "id": "FxHZxxwb4wr6"
      },
      "execution_count": null,
      "outputs": []
    },
    {
      "cell_type": "code",
      "source": [
        "#Check Shape\n",
        "fakenews.shape, realnews.shape"
      ],
      "metadata": {
        "colab": {
          "base_uri": "https://localhost:8080/"
        },
        "id": "iVpkQdX9P43r",
        "outputId": "6507703f-beee-407a-e417-1b0e81665c6a"
      },
      "execution_count": null,
      "outputs": [
        {
          "output_type": "execute_result",
          "data": {
            "text/plain": [
              "(5755, 5)"
            ]
          },
          "metadata": {},
          "execution_count": 121
        }
      ]
    },
    {
      "cell_type": "code",
      "source": [
        "# Combine fake and real news datasets -> allnews\n",
        "allnews = np.concatenate((fakenews, realnews))\n",
        "allnews.shape"
      ],
      "metadata": {
        "id": "JdCZpuALaCD9"
      },
      "execution_count": null,
      "outputs": []
    },
    {
      "cell_type": "code",
      "source": [
        "# Assign columns\n",
        "allnews = pd.DataFrame(allnews, columns = columns)"
      ],
      "metadata": {
        "id": "c-SO2rKsacBg"
      },
      "execution_count": null,
      "outputs": []
    },
    {
      "cell_type": "code",
      "source": [
        "# Shuffle data\n",
        "from sklearn.utils import shuffle\n",
        "allnews = shuffle(allnews)"
      ],
      "metadata": {
        "id": "h-rQDn2SaIrq"
      },
      "execution_count": null,
      "outputs": []
    },
    {
      "cell_type": "code",
      "source": [
        "allnews.head(5)"
      ],
      "metadata": {
        "colab": {
          "base_uri": "https://localhost:8080/",
          "height": 275
        },
        "id": "WF6laC2oaUUO",
        "outputId": "68c49d6c-4e37-45c4-c848-1c235a7ed48d"
      },
      "execution_count": null,
      "outputs": [
        {
          "output_type": "execute_result",
          "data": {
            "text/plain": [
              "                         id  \\\n",
              "10502      gossipcop-921031   \n",
              "4473   gossipcop-8386188284   \n",
              "6091          politifact751   \n",
              "7636       gossipcop-943735   \n",
              "6759       gossipcop-857428   \n",
              "\n",
              "                                                news_url  \\\n",
              "10502  https://people.com/music/kendall-jenner-rap-li...   \n",
              "4473   www.thewrap.com/big-little-lies-season-2-adds-...   \n",
              "6091   http://elections.nytimes.com/2008/president/de...   \n",
              "7636   https://www.hollywoodreporter.com/features/tif...   \n",
              "6759   https://grazia.com.au/articles/ariana-grande-e...   \n",
              "\n",
              "                                                   title  \\\n",
              "10502  See Kendall Jenner Rap About Exploring Her Unm...   \n",
              "4473   'Big Little Lies' Season 2 Returns 3 More Cast...   \n",
              "6091                           First Presidential Debate   \n",
              "7636   Tiffany Haddish, Hollywood’s New Comedy Queen,...   \n",
              "6759   Ariana Grande pens powerful essay after terror...   \n",
              "\n",
              "                                                   tweet flag  \n",
              "10502  974396839402328065\\t974398044912283648\\t974398... 0.00  \n",
              "4473              981256308371238913\\t981496837059342336 1.00  \n",
              "6091   708170780283052032\\t708170783529435136\\t708170... 0.00  \n",
              "7636   1006907994624360450\\t1006923588308537344\\t1006... 0.00  \n",
              "6759   868177425557073921\\t868179003148042241\\t868179... 0.00  "
            ],
            "text/html": [
              "\n",
              "  <div id=\"df-7b74c1c0-6292-46f2-bd73-78dc89201761\" class=\"colab-df-container\">\n",
              "    <div>\n",
              "<style scoped>\n",
              "    .dataframe tbody tr th:only-of-type {\n",
              "        vertical-align: middle;\n",
              "    }\n",
              "\n",
              "    .dataframe tbody tr th {\n",
              "        vertical-align: top;\n",
              "    }\n",
              "\n",
              "    .dataframe thead th {\n",
              "        text-align: right;\n",
              "    }\n",
              "</style>\n",
              "<table border=\"1\" class=\"dataframe\">\n",
              "  <thead>\n",
              "    <tr style=\"text-align: right;\">\n",
              "      <th></th>\n",
              "      <th>id</th>\n",
              "      <th>news_url</th>\n",
              "      <th>title</th>\n",
              "      <th>tweet</th>\n",
              "      <th>flag</th>\n",
              "    </tr>\n",
              "  </thead>\n",
              "  <tbody>\n",
              "    <tr>\n",
              "      <th>10502</th>\n",
              "      <td>gossipcop-921031</td>\n",
              "      <td>https://people.com/music/kendall-jenner-rap-li...</td>\n",
              "      <td>See Kendall Jenner Rap About Exploring Her Unm...</td>\n",
              "      <td>974396839402328065\\t974398044912283648\\t974398...</td>\n",
              "      <td>0.00</td>\n",
              "    </tr>\n",
              "    <tr>\n",
              "      <th>4473</th>\n",
              "      <td>gossipcop-8386188284</td>\n",
              "      <td>www.thewrap.com/big-little-lies-season-2-adds-...</td>\n",
              "      <td>'Big Little Lies' Season 2 Returns 3 More Cast...</td>\n",
              "      <td>981256308371238913\\t981496837059342336</td>\n",
              "      <td>1.00</td>\n",
              "    </tr>\n",
              "    <tr>\n",
              "      <th>6091</th>\n",
              "      <td>politifact751</td>\n",
              "      <td>http://elections.nytimes.com/2008/president/de...</td>\n",
              "      <td>First Presidential Debate</td>\n",
              "      <td>708170780283052032\\t708170783529435136\\t708170...</td>\n",
              "      <td>0.00</td>\n",
              "    </tr>\n",
              "    <tr>\n",
              "      <th>7636</th>\n",
              "      <td>gossipcop-943735</td>\n",
              "      <td>https://www.hollywoodreporter.com/features/tif...</td>\n",
              "      <td>Tiffany Haddish, Hollywood’s New Comedy Queen,...</td>\n",
              "      <td>1006907994624360450\\t1006923588308537344\\t1006...</td>\n",
              "      <td>0.00</td>\n",
              "    </tr>\n",
              "    <tr>\n",
              "      <th>6759</th>\n",
              "      <td>gossipcop-857428</td>\n",
              "      <td>https://grazia.com.au/articles/ariana-grande-e...</td>\n",
              "      <td>Ariana Grande pens powerful essay after terror...</td>\n",
              "      <td>868177425557073921\\t868179003148042241\\t868179...</td>\n",
              "      <td>0.00</td>\n",
              "    </tr>\n",
              "  </tbody>\n",
              "</table>\n",
              "</div>\n",
              "    <div class=\"colab-df-buttons\">\n",
              "\n",
              "  <div class=\"colab-df-container\">\n",
              "    <button class=\"colab-df-convert\" onclick=\"convertToInteractive('df-7b74c1c0-6292-46f2-bd73-78dc89201761')\"\n",
              "            title=\"Convert this dataframe to an interactive table.\"\n",
              "            style=\"display:none;\">\n",
              "\n",
              "  <svg xmlns=\"http://www.w3.org/2000/svg\" height=\"24px\" viewBox=\"0 -960 960 960\">\n",
              "    <path d=\"M120-120v-720h720v720H120Zm60-500h600v-160H180v160Zm220 220h160v-160H400v160Zm0 220h160v-160H400v160ZM180-400h160v-160H180v160Zm440 0h160v-160H620v160ZM180-180h160v-160H180v160Zm440 0h160v-160H620v160Z\"/>\n",
              "  </svg>\n",
              "    </button>\n",
              "\n",
              "  <style>\n",
              "    .colab-df-container {\n",
              "      display:flex;\n",
              "      gap: 12px;\n",
              "    }\n",
              "\n",
              "    .colab-df-convert {\n",
              "      background-color: #E8F0FE;\n",
              "      border: none;\n",
              "      border-radius: 50%;\n",
              "      cursor: pointer;\n",
              "      display: none;\n",
              "      fill: #1967D2;\n",
              "      height: 32px;\n",
              "      padding: 0 0 0 0;\n",
              "      width: 32px;\n",
              "    }\n",
              "\n",
              "    .colab-df-convert:hover {\n",
              "      background-color: #E2EBFA;\n",
              "      box-shadow: 0px 1px 2px rgba(60, 64, 67, 0.3), 0px 1px 3px 1px rgba(60, 64, 67, 0.15);\n",
              "      fill: #174EA6;\n",
              "    }\n",
              "\n",
              "    .colab-df-buttons div {\n",
              "      margin-bottom: 4px;\n",
              "    }\n",
              "\n",
              "    [theme=dark] .colab-df-convert {\n",
              "      background-color: #3B4455;\n",
              "      fill: #D2E3FC;\n",
              "    }\n",
              "\n",
              "    [theme=dark] .colab-df-convert:hover {\n",
              "      background-color: #434B5C;\n",
              "      box-shadow: 0px 1px 3px 1px rgba(0, 0, 0, 0.15);\n",
              "      filter: drop-shadow(0px 1px 2px rgba(0, 0, 0, 0.3));\n",
              "      fill: #FFFFFF;\n",
              "    }\n",
              "  </style>\n",
              "\n",
              "    <script>\n",
              "      const buttonEl =\n",
              "        document.querySelector('#df-7b74c1c0-6292-46f2-bd73-78dc89201761 button.colab-df-convert');\n",
              "      buttonEl.style.display =\n",
              "        google.colab.kernel.accessAllowed ? 'block' : 'none';\n",
              "\n",
              "      async function convertToInteractive(key) {\n",
              "        const element = document.querySelector('#df-7b74c1c0-6292-46f2-bd73-78dc89201761');\n",
              "        const dataTable =\n",
              "          await google.colab.kernel.invokeFunction('convertToInteractive',\n",
              "                                                    [key], {});\n",
              "        if (!dataTable) return;\n",
              "\n",
              "        const docLinkHtml = 'Like what you see? Visit the ' +\n",
              "          '<a target=\"_blank\" href=https://colab.research.google.com/notebooks/data_table.ipynb>data table notebook</a>'\n",
              "          + ' to learn more about interactive tables.';\n",
              "        element.innerHTML = '';\n",
              "        dataTable['output_type'] = 'display_data';\n",
              "        await google.colab.output.renderOutput(dataTable, element);\n",
              "        const docLink = document.createElement('div');\n",
              "        docLink.innerHTML = docLinkHtml;\n",
              "        element.appendChild(docLink);\n",
              "      }\n",
              "    </script>\n",
              "  </div>\n",
              "\n",
              "\n",
              "<div id=\"df-3f41422b-7472-40e8-af74-7e8de2ff9460\">\n",
              "  <button class=\"colab-df-quickchart\" onclick=\"quickchart('df-3f41422b-7472-40e8-af74-7e8de2ff9460')\"\n",
              "            title=\"Suggest charts\"\n",
              "            style=\"display:none;\">\n",
              "\n",
              "<svg xmlns=\"http://www.w3.org/2000/svg\" height=\"24px\"viewBox=\"0 0 24 24\"\n",
              "     width=\"24px\">\n",
              "    <g>\n",
              "        <path d=\"M19 3H5c-1.1 0-2 .9-2 2v14c0 1.1.9 2 2 2h14c1.1 0 2-.9 2-2V5c0-1.1-.9-2-2-2zM9 17H7v-7h2v7zm4 0h-2V7h2v10zm4 0h-2v-4h2v4z\"/>\n",
              "    </g>\n",
              "</svg>\n",
              "  </button>\n",
              "\n",
              "<style>\n",
              "  .colab-df-quickchart {\n",
              "      --bg-color: #E8F0FE;\n",
              "      --fill-color: #1967D2;\n",
              "      --hover-bg-color: #E2EBFA;\n",
              "      --hover-fill-color: #174EA6;\n",
              "      --disabled-fill-color: #AAA;\n",
              "      --disabled-bg-color: #DDD;\n",
              "  }\n",
              "\n",
              "  [theme=dark] .colab-df-quickchart {\n",
              "      --bg-color: #3B4455;\n",
              "      --fill-color: #D2E3FC;\n",
              "      --hover-bg-color: #434B5C;\n",
              "      --hover-fill-color: #FFFFFF;\n",
              "      --disabled-bg-color: #3B4455;\n",
              "      --disabled-fill-color: #666;\n",
              "  }\n",
              "\n",
              "  .colab-df-quickchart {\n",
              "    background-color: var(--bg-color);\n",
              "    border: none;\n",
              "    border-radius: 50%;\n",
              "    cursor: pointer;\n",
              "    display: none;\n",
              "    fill: var(--fill-color);\n",
              "    height: 32px;\n",
              "    padding: 0;\n",
              "    width: 32px;\n",
              "  }\n",
              "\n",
              "  .colab-df-quickchart:hover {\n",
              "    background-color: var(--hover-bg-color);\n",
              "    box-shadow: 0 1px 2px rgba(60, 64, 67, 0.3), 0 1px 3px 1px rgba(60, 64, 67, 0.15);\n",
              "    fill: var(--button-hover-fill-color);\n",
              "  }\n",
              "\n",
              "  .colab-df-quickchart-complete:disabled,\n",
              "  .colab-df-quickchart-complete:disabled:hover {\n",
              "    background-color: var(--disabled-bg-color);\n",
              "    fill: var(--disabled-fill-color);\n",
              "    box-shadow: none;\n",
              "  }\n",
              "\n",
              "  .colab-df-spinner {\n",
              "    border: 2px solid var(--fill-color);\n",
              "    border-color: transparent;\n",
              "    border-bottom-color: var(--fill-color);\n",
              "    animation:\n",
              "      spin 1s steps(1) infinite;\n",
              "  }\n",
              "\n",
              "  @keyframes spin {\n",
              "    0% {\n",
              "      border-color: transparent;\n",
              "      border-bottom-color: var(--fill-color);\n",
              "      border-left-color: var(--fill-color);\n",
              "    }\n",
              "    20% {\n",
              "      border-color: transparent;\n",
              "      border-left-color: var(--fill-color);\n",
              "      border-top-color: var(--fill-color);\n",
              "    }\n",
              "    30% {\n",
              "      border-color: transparent;\n",
              "      border-left-color: var(--fill-color);\n",
              "      border-top-color: var(--fill-color);\n",
              "      border-right-color: var(--fill-color);\n",
              "    }\n",
              "    40% {\n",
              "      border-color: transparent;\n",
              "      border-right-color: var(--fill-color);\n",
              "      border-top-color: var(--fill-color);\n",
              "    }\n",
              "    60% {\n",
              "      border-color: transparent;\n",
              "      border-right-color: var(--fill-color);\n",
              "    }\n",
              "    80% {\n",
              "      border-color: transparent;\n",
              "      border-right-color: var(--fill-color);\n",
              "      border-bottom-color: var(--fill-color);\n",
              "    }\n",
              "    90% {\n",
              "      border-color: transparent;\n",
              "      border-bottom-color: var(--fill-color);\n",
              "    }\n",
              "  }\n",
              "</style>\n",
              "\n",
              "  <script>\n",
              "    async function quickchart(key) {\n",
              "      const quickchartButtonEl =\n",
              "        document.querySelector('#' + key + ' button');\n",
              "      quickchartButtonEl.disabled = true;  // To prevent multiple clicks.\n",
              "      quickchartButtonEl.classList.add('colab-df-spinner');\n",
              "      try {\n",
              "        const charts = await google.colab.kernel.invokeFunction(\n",
              "            'suggestCharts', [key], {});\n",
              "      } catch (error) {\n",
              "        console.error('Error during call to suggestCharts:', error);\n",
              "      }\n",
              "      quickchartButtonEl.classList.remove('colab-df-spinner');\n",
              "      quickchartButtonEl.classList.add('colab-df-quickchart-complete');\n",
              "    }\n",
              "    (() => {\n",
              "      let quickchartButtonEl =\n",
              "        document.querySelector('#df-3f41422b-7472-40e8-af74-7e8de2ff9460 button');\n",
              "      quickchartButtonEl.style.display =\n",
              "        google.colab.kernel.accessAllowed ? 'block' : 'none';\n",
              "    })();\n",
              "  </script>\n",
              "</div>\n",
              "    </div>\n",
              "  </div>\n"
            ]
          },
          "metadata": {},
          "execution_count": 128
        }
      ]
    },
    {
      "cell_type": "code",
      "source": [
        "allnews.dtypes"
      ],
      "metadata": {
        "colab": {
          "base_uri": "https://localhost:8080/"
        },
        "id": "4r6r83l86zPY",
        "outputId": "c42f5f9a-4ca6-414d-b6da-16a4cfb66675"
      },
      "execution_count": null,
      "outputs": [
        {
          "output_type": "execute_result",
          "data": {
            "text/plain": [
              "id          object\n",
              "news_url    object\n",
              "title       object\n",
              "tweet       object\n",
              "flag        object\n",
              "dtype: object"
            ]
          },
          "metadata": {},
          "execution_count": 129
        }
      ]
    },
    {
      "cell_type": "markdown",
      "source": [
        "### Word Count Distribution"
      ],
      "metadata": {
        "id": "kVUzlHPqXGW4"
      }
    },
    {
      "cell_type": "code",
      "source": [
        "#The average count of words of tweet title\n",
        "#On average, 11 words\n",
        "allnews['word_count'] = allnews['title'].str.split().apply(len)\n",
        "allnews['word_count'].mean()"
      ],
      "metadata": {
        "id": "ZqnnDl8AOuUT",
        "colab": {
          "base_uri": "https://localhost:8080/"
        },
        "outputId": "82b2b63c-0044-4187-ca3d-25cb4bf43c2c"
      },
      "execution_count": null,
      "outputs": [
        {
          "output_type": "execute_result",
          "data": {
            "text/plain": [
              "11.161191584755992"
            ]
          },
          "metadata": {},
          "execution_count": 130
        }
      ]
    },
    {
      "cell_type": "code",
      "source": [
        "len(allnews['word_count'])"
      ],
      "metadata": {
        "colab": {
          "base_uri": "https://localhost:8080/"
        },
        "id": "rWTKf-kDRMqC",
        "outputId": "86034a08-a589-45f6-f5e7-90ee21d4dcad"
      },
      "execution_count": null,
      "outputs": [
        {
          "output_type": "execute_result",
          "data": {
            "text/plain": [
              "23196"
            ]
          },
          "metadata": {},
          "execution_count": 131
        }
      ]
    },
    {
      "cell_type": "markdown",
      "source": [
        "## Feature Engineering\n",
        "1) **Tweet Count** <br>\n",
        "* \"**tweet count**\" feature shows the number of times a news article has been tweeted/ retweeted <br><br>\n",
        "\n",
        "2) **Sentiment Analysis** <br>\n",
        "\n",
        "* Analyze the emotional tone of the news <br>\n",
        "\n",
        "* Create features with the following information - polarity, sensitivity, positivity, negativity, neutrality <br><br>\n",
        "\n",
        "3) **TD-IDF** (Term Frequency-Inverse Document Frequency) <br>\n",
        "* Transform texts into numeric representation to make data usable for ML models <br>\n",
        "* **TF (Term Frequency)**:\n",
        "(# times term t appears in a document) / (Total # of terms in the document) <br>\n",
        "* **IDF (Inverse Document Frequency)**:\n",
        "Log_10 (Total # of documents) / (# of documents with term t in it)\n",
        "\n",
        "![image.png](data:image/png;base64,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)\n",
        "\n"
      ],
      "metadata": {
        "id": "OIRqLzRJ8ccS"
      }
    },
    {
      "cell_type": "markdown",
      "source": [
        "### 1) Tweet Count - # of times a news article has been tweeted/ retweeted."
      ],
      "metadata": {
        "id": "m7I20wM3Gflz"
      }
    },
    {
      "cell_type": "code",
      "source": [
        "#1) \"tweet count\" column\n",
        "allnews[\"tweet count\"] = allnews[\"tweet\"].str.split('\\t').str.len()"
      ],
      "metadata": {
        "id": "8EYdpppg5jXs"
      },
      "execution_count": null,
      "outputs": []
    },
    {
      "cell_type": "code",
      "source": [
        "allnews.head(5)"
      ],
      "metadata": {
        "colab": {
          "base_uri": "https://localhost:8080/",
          "height": 379
        },
        "id": "-9ubSvOk6j0k",
        "outputId": "e1ad71a0-54a0-4980-ca0a-3ff55a5221d1"
      },
      "execution_count": null,
      "outputs": [
        {
          "output_type": "execute_result",
          "data": {
            "text/plain": [
              "                         id  \\\n",
              "10502      gossipcop-921031   \n",
              "4473   gossipcop-8386188284   \n",
              "6091          politifact751   \n",
              "7636       gossipcop-943735   \n",
              "6759       gossipcop-857428   \n",
              "\n",
              "                                                news_url  \\\n",
              "10502  https://people.com/music/kendall-jenner-rap-li...   \n",
              "4473   www.thewrap.com/big-little-lies-season-2-adds-...   \n",
              "6091   http://elections.nytimes.com/2008/president/de...   \n",
              "7636   https://www.hollywoodreporter.com/features/tif...   \n",
              "6759   https://grazia.com.au/articles/ariana-grande-e...   \n",
              "\n",
              "                                                   title  \\\n",
              "10502  See Kendall Jenner Rap About Exploring Her Unm...   \n",
              "4473   'Big Little Lies' Season 2 Returns 3 More Cast...   \n",
              "6091                           First Presidential Debate   \n",
              "7636   Tiffany Haddish, Hollywood’s New Comedy Queen,...   \n",
              "6759   Ariana Grande pens powerful essay after terror...   \n",
              "\n",
              "                                                   tweet flag  word_count  \\\n",
              "10502  974396839402328065\\t974398044912283648\\t974398... 0.00          15   \n",
              "4473              981256308371238913\\t981496837059342336 1.00          14   \n",
              "6091   708170780283052032\\t708170783529435136\\t708170... 0.00           3   \n",
              "7636   1006907994624360450\\t1006923588308537344\\t1006... 0.00          12   \n",
              "6759   868177425557073921\\t868179003148042241\\t868179... 0.00          12   \n",
              "\n",
              "       tweet count  \n",
              "10502           79  \n",
              "4473             2  \n",
              "6091          1307  \n",
              "7636            27  \n",
              "6759            62  "
            ],
            "text/html": [
              "\n",
              "  <div id=\"df-d38ef84a-fca8-40ab-9978-fd63e9e5609a\" class=\"colab-df-container\">\n",
              "    <div>\n",
              "<style scoped>\n",
              "    .dataframe tbody tr th:only-of-type {\n",
              "        vertical-align: middle;\n",
              "    }\n",
              "\n",
              "    .dataframe tbody tr th {\n",
              "        vertical-align: top;\n",
              "    }\n",
              "\n",
              "    .dataframe thead th {\n",
              "        text-align: right;\n",
              "    }\n",
              "</style>\n",
              "<table border=\"1\" class=\"dataframe\">\n",
              "  <thead>\n",
              "    <tr style=\"text-align: right;\">\n",
              "      <th></th>\n",
              "      <th>id</th>\n",
              "      <th>news_url</th>\n",
              "      <th>title</th>\n",
              "      <th>tweet</th>\n",
              "      <th>flag</th>\n",
              "      <th>word_count</th>\n",
              "      <th>tweet count</th>\n",
              "    </tr>\n",
              "  </thead>\n",
              "  <tbody>\n",
              "    <tr>\n",
              "      <th>10502</th>\n",
              "      <td>gossipcop-921031</td>\n",
              "      <td>https://people.com/music/kendall-jenner-rap-li...</td>\n",
              "      <td>See Kendall Jenner Rap About Exploring Her Unm...</td>\n",
              "      <td>974396839402328065\\t974398044912283648\\t974398...</td>\n",
              "      <td>0.00</td>\n",
              "      <td>15</td>\n",
              "      <td>79</td>\n",
              "    </tr>\n",
              "    <tr>\n",
              "      <th>4473</th>\n",
              "      <td>gossipcop-8386188284</td>\n",
              "      <td>www.thewrap.com/big-little-lies-season-2-adds-...</td>\n",
              "      <td>'Big Little Lies' Season 2 Returns 3 More Cast...</td>\n",
              "      <td>981256308371238913\\t981496837059342336</td>\n",
              "      <td>1.00</td>\n",
              "      <td>14</td>\n",
              "      <td>2</td>\n",
              "    </tr>\n",
              "    <tr>\n",
              "      <th>6091</th>\n",
              "      <td>politifact751</td>\n",
              "      <td>http://elections.nytimes.com/2008/president/de...</td>\n",
              "      <td>First Presidential Debate</td>\n",
              "      <td>708170780283052032\\t708170783529435136\\t708170...</td>\n",
              "      <td>0.00</td>\n",
              "      <td>3</td>\n",
              "      <td>1307</td>\n",
              "    </tr>\n",
              "    <tr>\n",
              "      <th>7636</th>\n",
              "      <td>gossipcop-943735</td>\n",
              "      <td>https://www.hollywoodreporter.com/features/tif...</td>\n",
              "      <td>Tiffany Haddish, Hollywood’s New Comedy Queen,...</td>\n",
              "      <td>1006907994624360450\\t1006923588308537344\\t1006...</td>\n",
              "      <td>0.00</td>\n",
              "      <td>12</td>\n",
              "      <td>27</td>\n",
              "    </tr>\n",
              "    <tr>\n",
              "      <th>6759</th>\n",
              "      <td>gossipcop-857428</td>\n",
              "      <td>https://grazia.com.au/articles/ariana-grande-e...</td>\n",
              "      <td>Ariana Grande pens powerful essay after terror...</td>\n",
              "      <td>868177425557073921\\t868179003148042241\\t868179...</td>\n",
              "      <td>0.00</td>\n",
              "      <td>12</td>\n",
              "      <td>62</td>\n",
              "    </tr>\n",
              "  </tbody>\n",
              "</table>\n",
              "</div>\n",
              "    <div class=\"colab-df-buttons\">\n",
              "\n",
              "  <div class=\"colab-df-container\">\n",
              "    <button class=\"colab-df-convert\" onclick=\"convertToInteractive('df-d38ef84a-fca8-40ab-9978-fd63e9e5609a')\"\n",
              "            title=\"Convert this dataframe to an interactive table.\"\n",
              "            style=\"display:none;\">\n",
              "\n",
              "  <svg xmlns=\"http://www.w3.org/2000/svg\" height=\"24px\" viewBox=\"0 -960 960 960\">\n",
              "    <path d=\"M120-120v-720h720v720H120Zm60-500h600v-160H180v160Zm220 220h160v-160H400v160Zm0 220h160v-160H400v160ZM180-400h160v-160H180v160Zm440 0h160v-160H620v160ZM180-180h160v-160H180v160Zm440 0h160v-160H620v160Z\"/>\n",
              "  </svg>\n",
              "    </button>\n",
              "\n",
              "  <style>\n",
              "    .colab-df-container {\n",
              "      display:flex;\n",
              "      gap: 12px;\n",
              "    }\n",
              "\n",
              "    .colab-df-convert {\n",
              "      background-color: #E8F0FE;\n",
              "      border: none;\n",
              "      border-radius: 50%;\n",
              "      cursor: pointer;\n",
              "      display: none;\n",
              "      fill: #1967D2;\n",
              "      height: 32px;\n",
              "      padding: 0 0 0 0;\n",
              "      width: 32px;\n",
              "    }\n",
              "\n",
              "    .colab-df-convert:hover {\n",
              "      background-color: #E2EBFA;\n",
              "      box-shadow: 0px 1px 2px rgba(60, 64, 67, 0.3), 0px 1px 3px 1px rgba(60, 64, 67, 0.15);\n",
              "      fill: #174EA6;\n",
              "    }\n",
              "\n",
              "    .colab-df-buttons div {\n",
              "      margin-bottom: 4px;\n",
              "    }\n",
              "\n",
              "    [theme=dark] .colab-df-convert {\n",
              "      background-color: #3B4455;\n",
              "      fill: #D2E3FC;\n",
              "    }\n",
              "\n",
              "    [theme=dark] .colab-df-convert:hover {\n",
              "      background-color: #434B5C;\n",
              "      box-shadow: 0px 1px 3px 1px rgba(0, 0, 0, 0.15);\n",
              "      filter: drop-shadow(0px 1px 2px rgba(0, 0, 0, 0.3));\n",
              "      fill: #FFFFFF;\n",
              "    }\n",
              "  </style>\n",
              "\n",
              "    <script>\n",
              "      const buttonEl =\n",
              "        document.querySelector('#df-d38ef84a-fca8-40ab-9978-fd63e9e5609a button.colab-df-convert');\n",
              "      buttonEl.style.display =\n",
              "        google.colab.kernel.accessAllowed ? 'block' : 'none';\n",
              "\n",
              "      async function convertToInteractive(key) {\n",
              "        const element = document.querySelector('#df-d38ef84a-fca8-40ab-9978-fd63e9e5609a');\n",
              "        const dataTable =\n",
              "          await google.colab.kernel.invokeFunction('convertToInteractive',\n",
              "                                                    [key], {});\n",
              "        if (!dataTable) return;\n",
              "\n",
              "        const docLinkHtml = 'Like what you see? Visit the ' +\n",
              "          '<a target=\"_blank\" href=https://colab.research.google.com/notebooks/data_table.ipynb>data table notebook</a>'\n",
              "          + ' to learn more about interactive tables.';\n",
              "        element.innerHTML = '';\n",
              "        dataTable['output_type'] = 'display_data';\n",
              "        await google.colab.output.renderOutput(dataTable, element);\n",
              "        const docLink = document.createElement('div');\n",
              "        docLink.innerHTML = docLinkHtml;\n",
              "        element.appendChild(docLink);\n",
              "      }\n",
              "    </script>\n",
              "  </div>\n",
              "\n",
              "\n",
              "<div id=\"df-3cc95afb-915d-4c0a-9d5a-19f7969c3d0c\">\n",
              "  <button class=\"colab-df-quickchart\" onclick=\"quickchart('df-3cc95afb-915d-4c0a-9d5a-19f7969c3d0c')\"\n",
              "            title=\"Suggest charts\"\n",
              "            style=\"display:none;\">\n",
              "\n",
              "<svg xmlns=\"http://www.w3.org/2000/svg\" height=\"24px\"viewBox=\"0 0 24 24\"\n",
              "     width=\"24px\">\n",
              "    <g>\n",
              "        <path d=\"M19 3H5c-1.1 0-2 .9-2 2v14c0 1.1.9 2 2 2h14c1.1 0 2-.9 2-2V5c0-1.1-.9-2-2-2zM9 17H7v-7h2v7zm4 0h-2V7h2v10zm4 0h-2v-4h2v4z\"/>\n",
              "    </g>\n",
              "</svg>\n",
              "  </button>\n",
              "\n",
              "<style>\n",
              "  .colab-df-quickchart {\n",
              "      --bg-color: #E8F0FE;\n",
              "      --fill-color: #1967D2;\n",
              "      --hover-bg-color: #E2EBFA;\n",
              "      --hover-fill-color: #174EA6;\n",
              "      --disabled-fill-color: #AAA;\n",
              "      --disabled-bg-color: #DDD;\n",
              "  }\n",
              "\n",
              "  [theme=dark] .colab-df-quickchart {\n",
              "      --bg-color: #3B4455;\n",
              "      --fill-color: #D2E3FC;\n",
              "      --hover-bg-color: #434B5C;\n",
              "      --hover-fill-color: #FFFFFF;\n",
              "      --disabled-bg-color: #3B4455;\n",
              "      --disabled-fill-color: #666;\n",
              "  }\n",
              "\n",
              "  .colab-df-quickchart {\n",
              "    background-color: var(--bg-color);\n",
              "    border: none;\n",
              "    border-radius: 50%;\n",
              "    cursor: pointer;\n",
              "    display: none;\n",
              "    fill: var(--fill-color);\n",
              "    height: 32px;\n",
              "    padding: 0;\n",
              "    width: 32px;\n",
              "  }\n",
              "\n",
              "  .colab-df-quickchart:hover {\n",
              "    background-color: var(--hover-bg-color);\n",
              "    box-shadow: 0 1px 2px rgba(60, 64, 67, 0.3), 0 1px 3px 1px rgba(60, 64, 67, 0.15);\n",
              "    fill: var(--button-hover-fill-color);\n",
              "  }\n",
              "\n",
              "  .colab-df-quickchart-complete:disabled,\n",
              "  .colab-df-quickchart-complete:disabled:hover {\n",
              "    background-color: var(--disabled-bg-color);\n",
              "    fill: var(--disabled-fill-color);\n",
              "    box-shadow: none;\n",
              "  }\n",
              "\n",
              "  .colab-df-spinner {\n",
              "    border: 2px solid var(--fill-color);\n",
              "    border-color: transparent;\n",
              "    border-bottom-color: var(--fill-color);\n",
              "    animation:\n",
              "      spin 1s steps(1) infinite;\n",
              "  }\n",
              "\n",
              "  @keyframes spin {\n",
              "    0% {\n",
              "      border-color: transparent;\n",
              "      border-bottom-color: var(--fill-color);\n",
              "      border-left-color: var(--fill-color);\n",
              "    }\n",
              "    20% {\n",
              "      border-color: transparent;\n",
              "      border-left-color: var(--fill-color);\n",
              "      border-top-color: var(--fill-color);\n",
              "    }\n",
              "    30% {\n",
              "      border-color: transparent;\n",
              "      border-left-color: var(--fill-color);\n",
              "      border-top-color: var(--fill-color);\n",
              "      border-right-color: var(--fill-color);\n",
              "    }\n",
              "    40% {\n",
              "      border-color: transparent;\n",
              "      border-right-color: var(--fill-color);\n",
              "      border-top-color: var(--fill-color);\n",
              "    }\n",
              "    60% {\n",
              "      border-color: transparent;\n",
              "      border-right-color: var(--fill-color);\n",
              "    }\n",
              "    80% {\n",
              "      border-color: transparent;\n",
              "      border-right-color: var(--fill-color);\n",
              "      border-bottom-color: var(--fill-color);\n",
              "    }\n",
              "    90% {\n",
              "      border-color: transparent;\n",
              "      border-bottom-color: var(--fill-color);\n",
              "    }\n",
              "  }\n",
              "</style>\n",
              "\n",
              "  <script>\n",
              "    async function quickchart(key) {\n",
              "      const quickchartButtonEl =\n",
              "        document.querySelector('#' + key + ' button');\n",
              "      quickchartButtonEl.disabled = true;  // To prevent multiple clicks.\n",
              "      quickchartButtonEl.classList.add('colab-df-spinner');\n",
              "      try {\n",
              "        const charts = await google.colab.kernel.invokeFunction(\n",
              "            'suggestCharts', [key], {});\n",
              "      } catch (error) {\n",
              "        console.error('Error during call to suggestCharts:', error);\n",
              "      }\n",
              "      quickchartButtonEl.classList.remove('colab-df-spinner');\n",
              "      quickchartButtonEl.classList.add('colab-df-quickchart-complete');\n",
              "    }\n",
              "    (() => {\n",
              "      let quickchartButtonEl =\n",
              "        document.querySelector('#df-3cc95afb-915d-4c0a-9d5a-19f7969c3d0c button');\n",
              "      quickchartButtonEl.style.display =\n",
              "        google.colab.kernel.accessAllowed ? 'block' : 'none';\n",
              "    })();\n",
              "  </script>\n",
              "</div>\n",
              "    </div>\n",
              "  </div>\n"
            ]
          },
          "metadata": {},
          "execution_count": 133
        }
      ]
    },
    {
      "cell_type": "code",
      "source": [],
      "metadata": {
        "id": "dLJcNtcaQqV4"
      },
      "execution_count": null,
      "outputs": []
    },
    {
      "cell_type": "markdown",
      "source": [
        "### 2) Sentiment Analysis <br>\n",
        "* Analyzing sentiment of news tweets using TextBlob. <br>\n",
        "* **Polarity** is a float that lies between [-1,1], **-1** indicating **negative** sentiment and **1** indicating **positive** sentiment.<br>\n",
        "* **Subjectivity** is a float which lies in the range of [0,1]. Subjectivity refers to **personal opinion**, emotion, or judgment."
      ],
      "metadata": {
        "id": "Y2i9SW5fGu-3"
      }
    },
    {
      "cell_type": "code",
      "source": [
        "# Sentiment Analysis\n",
        "# Reference: https://neptune.ai/blog/sentiment-analysis-python-textblob-vs-vader-vs-flair\n",
        "pd.options.display.float_format = '{:,.2f}'.format\n",
        "from textblob import TextBlob"
      ],
      "metadata": {
        "id": "EFiqsF8bJJAx"
      },
      "execution_count": null,
      "outputs": []
    },
    {
      "cell_type": "code",
      "source": [
        "# Add Polarity and Sensitivity features\n",
        "\n",
        "def get_polarity(text):\n",
        "  polarity = TextBlob(text)\n",
        "  score = polarity.sentiment[0]\n",
        "  return score\n",
        "\n",
        "def get_sensitivity(text):\n",
        "  sensitivity = TextBlob(text)\n",
        "  return sensitivity.sentiment[1]\n",
        "\n",
        "\n",
        "allnews[\"polarity\"] = allnews['title'].apply(lambda x: get_polarity(x))\n",
        "allnews[\"sensitivity\"] = allnews['title'].apply(lambda x: get_sensitivity(x))"
      ],
      "metadata": {
        "id": "koSR9IA9JJIE"
      },
      "execution_count": null,
      "outputs": []
    },
    {
      "cell_type": "code",
      "source": [
        "# Take the features we need\n",
        "allnews = allnews[[\"title\", \"flag\", \"word_count\", \"tweet count\", \"polarity\", \"sensitivity\"]]"
      ],
      "metadata": {
        "id": "WBbA82JvytMC"
      },
      "execution_count": null,
      "outputs": []
    },
    {
      "cell_type": "code",
      "source": [
        "allnews.dtypes"
      ],
      "metadata": {
        "id": "-gN2BYnhujH7",
        "colab": {
          "base_uri": "https://localhost:8080/"
        },
        "outputId": "6b03348c-e6aa-4113-dbe5-276b2beef652"
      },
      "execution_count": null,
      "outputs": [
        {
          "output_type": "execute_result",
          "data": {
            "text/plain": [
              "title           object\n",
              "flag            object\n",
              "word_count       int64\n",
              "tweet count      int64\n",
              "polarity       float64\n",
              "sensitivity    float64\n",
              "dtype: object"
            ]
          },
          "metadata": {},
          "execution_count": 137
        }
      ]
    },
    {
      "cell_type": "code",
      "source": [],
      "metadata": {
        "id": "2kL7P45OvZwx"
      },
      "execution_count": null,
      "outputs": []
    },
    {
      "cell_type": "markdown",
      "source": [
        "### 3) TF-IDF for Text Feature"
      ],
      "metadata": {
        "id": "N8LN1KTKG1Jp"
      }
    },
    {
      "cell_type": "code",
      "source": [
        "import nltk\n",
        "from nltk.stem import PorterStemmer\n",
        "from nltk.tokenize import RegexpTokenizer\n",
        "nltk.download(\"punkt\")"
      ],
      "metadata": {
        "colab": {
          "base_uri": "https://localhost:8080/"
        },
        "id": "ZEx5KJ7PCWBx",
        "outputId": "67df1804-0a12-4d22-bff5-b823d547f295"
      },
      "execution_count": null,
      "outputs": [
        {
          "output_type": "stream",
          "name": "stderr",
          "text": [
            "[nltk_data] Downloading package punkt to /root/nltk_data...\n",
            "[nltk_data]   Package punkt is already up-to-date!\n"
          ]
        },
        {
          "output_type": "execute_result",
          "data": {
            "text/plain": [
              "True"
            ]
          },
          "metadata": {},
          "execution_count": 138
        }
      ]
    },
    {
      "cell_type": "code",
      "source": [
        "# TF-IDF Vectorizer\n",
        "# Transform texts (news titles) into a meaningful representation of numbers while removing stopwords\n",
        "#tf_idf = TfidfVectorizer(analyzer='word')\n",
        "\n",
        "tf_idf = TfidfVectorizer(analyzer='word', stop_words='english', strip_accents = \"ascii\")\n",
        "X = tf_idf.fit_transform(allnews['title'])\n",
        "y = allnews['flag'].astype('int')\n",
        "\n",
        "#Transform to arrays\n",
        "np.asarray(X)\n",
        "np.asarray(y)"
      ],
      "metadata": {
        "id": "Pl57zTdmVpEO",
        "colab": {
          "base_uri": "https://localhost:8080/"
        },
        "outputId": "07964738-b24c-457b-e0e5-6b491da399d9"
      },
      "execution_count": null,
      "outputs": [
        {
          "output_type": "execute_result",
          "data": {
            "text/plain": [
              "array([0, 1, 0, ..., 0, 0, 0])"
            ]
          },
          "metadata": {},
          "execution_count": 139
        }
      ]
    },
    {
      "cell_type": "code",
      "source": [
        "# features = tf_idf.get_feature_names()\n",
        "# news_matrix_df = pd.DataFrame(allnews, columns=tf_idf.get_feature_names(), index=allnews['title'])\n",
        "# news_matrix_df.head(10)"
      ],
      "metadata": {
        "id": "G8bPkEielB51"
      },
      "execution_count": null,
      "outputs": []
    },
    {
      "cell_type": "code",
      "source": [
        "X.shape"
      ],
      "metadata": {
        "colab": {
          "base_uri": "https://localhost:8080/"
        },
        "id": "wCnfM3mrM42w",
        "outputId": "1c9a1aa0-a69c-46e0-db30-f6f2ed56491e"
      },
      "execution_count": null,
      "outputs": [
        {
          "output_type": "execute_result",
          "data": {
            "text/plain": [
              "(23196, 17920)"
            ]
          },
          "metadata": {},
          "execution_count": 141
        }
      ]
    },
    {
      "cell_type": "code",
      "source": [
        "# Transform non-text features to a sparse matrix\n",
        "from scipy import sparse\n",
        "import scipy as sp\n",
        "from scipy.sparse import csr_matrix\n",
        "\n",
        "Non_Text_Features = sparse.csr_matrix(allnews.loc[:,'word_count':'sensitivity'])"
      ],
      "metadata": {
        "id": "2ao8Pfpi_0w1"
      },
      "execution_count": null,
      "outputs": []
    },
    {
      "cell_type": "code",
      "source": [
        "Non_Text_Features.shape"
      ],
      "metadata": {
        "id": "cD6P0kcC_03j",
        "colab": {
          "base_uri": "https://localhost:8080/"
        },
        "outputId": "33a985f3-81af-4402-8ec8-90d18cb271e5"
      },
      "execution_count": null,
      "outputs": [
        {
          "output_type": "execute_result",
          "data": {
            "text/plain": [
              "(23196, 4)"
            ]
          },
          "metadata": {},
          "execution_count": 143
        }
      ]
    },
    {
      "cell_type": "code",
      "source": [
        "# Combine Text Feature X and Non_Text_Features\n",
        "combined_df = sp.sparse.hstack([X, Non_Text_Features])\n",
        "combined_df.shape"
      ],
      "metadata": {
        "colab": {
          "base_uri": "https://localhost:8080/"
        },
        "id": "vM_HOxBqNtBm",
        "outputId": "2bdfeff5-80ff-43c8-ea44-36102a255282"
      },
      "execution_count": null,
      "outputs": [
        {
          "output_type": "execute_result",
          "data": {
            "text/plain": [
              "(23196, 17924)"
            ]
          },
          "metadata": {},
          "execution_count": 144
        }
      ]
    },
    {
      "cell_type": "code",
      "source": [
        "# Combined Sparse Matrix Data\n",
        "combined_df"
      ],
      "metadata": {
        "colab": {
          "base_uri": "https://localhost:8080/"
        },
        "id": "XqgRePzFaJT2",
        "outputId": "11a36fb2-bebb-45f5-d5e0-58ae579d2116"
      },
      "execution_count": null,
      "outputs": [
        {
          "output_type": "execute_result",
          "data": {
            "text/plain": [
              "<23196x17924 sparse matrix of type '<class 'numpy.float64'>'\n",
              "\twith 249920 stored elements in Compressed Sparse Row format>"
            ]
          },
          "metadata": {},
          "execution_count": 145
        }
      ]
    },
    {
      "cell_type": "code",
      "source": [
        "# Transform to Dense\n",
        "# combined_df = combined_df.todense()"
      ],
      "metadata": {
        "id": "e5Jx4QLaQhQo"
      },
      "execution_count": null,
      "outputs": []
    },
    {
      "cell_type": "code",
      "source": [
        "# 70:30 Train and Test Split\n",
        "Xtr, Xts, ytr, yts = train_test_split(combined_df, y, random_state = 0, test_size = 0.3)"
      ],
      "metadata": {
        "id": "XsmqkHwqOPHy"
      },
      "execution_count": null,
      "outputs": []
    },
    {
      "cell_type": "code",
      "source": [
        "Xtr"
      ],
      "metadata": {
        "colab": {
          "base_uri": "https://localhost:8080/"
        },
        "id": "rfbI1L6McKor",
        "outputId": "337d1a10-d77b-4796-cc2d-9b882298392f"
      },
      "execution_count": null,
      "outputs": [
        {
          "output_type": "execute_result",
          "data": {
            "text/plain": [
              "<16237x17924 sparse matrix of type '<class 'numpy.float64'>'\n",
              "\twith 174817 stored elements in Compressed Sparse Row format>"
            ]
          },
          "metadata": {},
          "execution_count": 148
        }
      ]
    },
    {
      "cell_type": "code",
      "source": [
        "# Scale Data\n",
        "from sklearn.preprocessing import MaxAbsScaler #fixed import\n",
        "scaler = MaxAbsScaler()\n",
        "Xtr = scaler.fit_transform(Xtr)\n",
        "Xts = scaler.transform(Xts)"
      ],
      "metadata": {
        "id": "H0-4CWiTOxFI"
      },
      "execution_count": null,
      "outputs": []
    },
    {
      "cell_type": "markdown",
      "source": [
        "## Model Performance **BEFORE** Imbalanced Data Handling\n",
        "* Gaussian Naive Bayes\n",
        "* Bernoulli Naive Bayes\n",
        "* Logistic Regression\n",
        "* XGBoost"
      ],
      "metadata": {
        "id": "cxKrPZ4j8YS1"
      }
    },
    {
      "cell_type": "code",
      "source": [
        "from sklearn.pipeline import Pipeline\n",
        "from sklearn.naive_bayes import GaussianNB\n",
        "\n",
        "#1) Gaussian Naive Bayes\n",
        "Xtr = Xtr.toarray()\n",
        "Xts = Xts.toarray()\n",
        "\n",
        "GNB = GaussianNB()\n",
        "classifier = GNB.fit(Xtr,ytr)\n",
        "yhat = classifier.predict(Xts)"
      ],
      "metadata": {
        "id": "vN9ukWfeVpii"
      },
      "execution_count": null,
      "outputs": []
    },
    {
      "cell_type": "code",
      "source": [
        "#0- real news, 1- fake news\n",
        "class_names = ['Real','Fake']\n",
        "\n",
        "# Plot non-normalized confusion matrix\n",
        "titles_options = [\n",
        "    (\"GNB Confusion matrix, without normalization\", None),\n",
        "    (\"GNB Normalized confusion matrix\", \"true\"),\n",
        "]\n",
        "for title, normalize in titles_options:\n",
        "    disp = ConfusionMatrixDisplay.from_estimator(\n",
        "        classifier,\n",
        "        Xts,\n",
        "        yts,\n",
        "        display_labels=class_names,\n",
        "        cmap=plt.cm.Blues,\n",
        "        normalize=normalize,\n",
        "    )\n",
        "    disp.ax_.set_title(title)\n",
        "\n",
        "    print(title)\n",
        "    print(disp.confusion_matrix)\n",
        "\n",
        "plt.show()"
      ],
      "metadata": {
        "id": "Ii_lyWOfZMeP"
      },
      "execution_count": null,
      "outputs": []
    },
    {
      "cell_type": "code",
      "source": [
        "# GNB Performance - BEFORE SMOTE\n",
        "# print(\"Cross Val: \", cross_val_score(GNB, X, y, cv=10))\n",
        "print(\"Accuracy: \",metrics.accuracy_score(yts, yhat))\n",
        "print(\"Precision: \", metrics.precision_score(yts, yhat))\n",
        "print(\"Recall: \", metrics.recall_score(yts, yhat))\n",
        "print(\"F1: \", metrics.f1_score(yts, yhat))\n",
        "print(\"ROC-AUC: \", metrics.roc_auc_score(yts, yhat))"
      ],
      "metadata": {
        "id": "yito5kONZXnA"
      },
      "execution_count": null,
      "outputs": []
    },
    {
      "cell_type": "code",
      "source": [],
      "metadata": {
        "id": "uiCSNUUu-hYj"
      },
      "execution_count": null,
      "outputs": []
    },
    {
      "cell_type": "code",
      "source": [
        "#2) Bernoulli Naive Bayes\n",
        "BNB = BernoulliNB()\n",
        "BNB.fit(Xtr,ytr)\n",
        "yhat= BNB.predict(Xts)"
      ],
      "metadata": {
        "id": "tNFVMo9ybVJ0"
      },
      "execution_count": null,
      "outputs": []
    },
    {
      "cell_type": "code",
      "source": [
        "# Plot non-normalized confusion matrix\n",
        "titles_options = [\n",
        "    (\"BNB Confusion matrix, without normalization\", None),\n",
        "    (\"BNB Normalized confusion matrix\", \"true\"),\n",
        "]\n",
        "for title, normalize in titles_options:\n",
        "    disp = ConfusionMatrixDisplay.from_estimator(\n",
        "        classifier,\n",
        "        Xts,\n",
        "        yts,\n",
        "        display_labels=class_names,\n",
        "        cmap=plt.cm.Blues,\n",
        "        normalize=normalize,\n",
        "    )\n",
        "    disp.ax_.set_title(title)\n",
        "\n",
        "    print(title)\n",
        "    print(disp.confusion_matrix)\n",
        "\n",
        "plt.show()"
      ],
      "metadata": {
        "id": "pcgXvAfJfOYU"
      },
      "execution_count": null,
      "outputs": []
    },
    {
      "cell_type": "code",
      "source": [
        "# BNB Performance - BEFORE SMOTE\n",
        "#print(\"Cross Val : \", cross_val_score(BNB, X, y, cv=10))\n",
        "print(\"Accuracy: \",metrics.accuracy_score(yts, yhat))\n",
        "print(\"Precision: \", metrics.precision_score(yts, yhat))\n",
        "print(\"Recall: \", metrics.recall_score(yts, yhat))\n",
        "print(\"F1: \", metrics.f1_score(yts, yhat))\n",
        "print(\"ROC-AUC: \", metrics.roc_auc_score(yts, yhat))"
      ],
      "metadata": {
        "id": "mQNIo90wbXki"
      },
      "execution_count": null,
      "outputs": []
    },
    {
      "cell_type": "code",
      "source": [],
      "metadata": {
        "id": "ggaGF6M2fYzz"
      },
      "execution_count": null,
      "outputs": []
    },
    {
      "cell_type": "code",
      "source": [
        "# 3) Logistic Regression - BEFORE SMOTE\n",
        "LR_Model = LogisticRegression()\n",
        "LR_Model.fit(Xtr, ytr)\n",
        "yhat = LR_Model.predict(Xts)\n",
        "\n",
        "#Logit Performance\n",
        "# print(\"Cross Val : \", cross_val_score(BNB, X, y, cv=10))\n",
        "print(\"Accuracy: \",metrics.accuracy_score(yts, yhat))\n",
        "print(\"Precision: \", metrics.precision_score(yts, yhat))\n",
        "print(\"Recall: \", metrics.recall_score(yts, yhat))\n",
        "print(\"F1: \", metrics.f1_score(yts, yhat))\n",
        "print(\"ROC-AUC: \", metrics.roc_auc_score(yts, yhat))"
      ],
      "metadata": {
        "id": "milTglgCCGHK",
        "colab": {
          "base_uri": "https://localhost:8080/"
        },
        "outputId": "673737ec-b4de-4383-fd79-0dd3c00d62ad"
      },
      "execution_count": null,
      "outputs": [
        {
          "output_type": "stream",
          "name": "stdout",
          "text": [
            "Accuracy:  0.8446615893088087\n",
            "Precision:  0.7788632326820604\n",
            "Recall:  0.51316559391457\n",
            "F1:  0.618694885361552\n",
            "ROC-AUC:  0.7328685112429993\n"
          ]
        }
      ]
    },
    {
      "cell_type": "code",
      "source": [
        "# 4) XGBoost - BEFORE SMOTE\n",
        "xgb = XGBClassifier()\n",
        "model = xgb.fit(Xtr, ytr)\n",
        "yhat = xgb.predict(Xts)\n",
        "\n",
        "#XGBoost Performance\n",
        "#print(\"Cross Val : \", cross_val_score(BNB, X, y, cv=10))\n",
        "print(\"Accuracy: \",metrics.accuracy_score(yts, yhat))\n",
        "print(\"Precision: \", metrics.precision_score(yts, yhat))\n",
        "print(\"Recall: \", metrics.recall_score(yts, yhat))\n",
        "print(\"F1: \", metrics.f1_score(yts, yhat))\n",
        "print(\"ROC-AUC: \", metrics.roc_auc_score(yts, yhat))"
      ],
      "metadata": {
        "id": "nngv_ZZkDVsU",
        "colab": {
          "base_uri": "https://localhost:8080/"
        },
        "outputId": "bd33ede9-6b96-49c8-d133-1f8a816cbe50"
      },
      "execution_count": null,
      "outputs": [
        {
          "output_type": "stream",
          "name": "stdout",
          "text": [
            "Accuracy:  0.8739761459979882\n",
            "Precision:  0.8027656477438136\n",
            "Recall:  0.6454066705675834\n",
            "F1:  0.7155368147907882\n",
            "ROC-AUC:  0.7968938114742677\n"
          ]
        }
      ]
    },
    {
      "cell_type": "code",
      "source": [
        "# 5) SVM - BEFORE SMOTE\n",
        "from sklearn import svm\n",
        "svm = svm.SVC()\n",
        "svm.fit(Xtr, ytr)\n",
        "yhat= svm.predict(Xts)\n",
        "\n",
        "#Print socres\n",
        "# print(\"Cross Val: \", cross_val_score(svm, X, y, cv=3))\n",
        "print(\"Accuracy: \",metrics.accuracy_score(yts, yhat))\n",
        "print(\"Precision: \", metrics.precision_score(yts, yhat))\n",
        "print(\"Recall: \", metrics.recall_score(yts, yhat))\n",
        "print(\"F1: \", metrics.f1_score(yts, yhat))\n",
        "print(\"AUC: \", metrics.roc_auc_score(yts, yhat))"
      ],
      "metadata": {
        "colab": {
          "base_uri": "https://localhost:8080/"
        },
        "id": "4hlDqYP9c3Vl",
        "outputId": "2bb0f617-f3ca-40ec-c34e-ef7b60cfb503"
      },
      "execution_count": null,
      "outputs": [
        {
          "output_type": "stream",
          "name": "stdout",
          "text": [
            "Accuracy:  0.8407817215117115\n",
            "Precision:  0.835005574136009\n",
            "Recall:  0.4382679929783499\n",
            "F1:  0.5748273215656178\n",
            "AUC:  0.7050387583939368\n"
          ]
        }
      ]
    },
    {
      "cell_type": "markdown",
      "source": [
        "## Analysis - Before Imbalanced Data Handling\n",
        "MOST models (Bernoulli Naive Bayes, Logistic Regression, XGBoost, SVM) <br>\n",
        "• **HIGH** Accuracy and Precision, but **LOW** Recall <br>\n",
        "• **HIGH** Accuracy, but **LOW** ROC-AUC <br>\n",
        "• Good at capturing REAL news, but **poorly detects FAKE news** <br>\n",
        "\n",
        "• Imbalanced dataset (REAL news more than 3 times greater than FAKE news) <br>\n",
        "-> Model tilted towards predicting the majority class"
      ],
      "metadata": {
        "id": "AFagsT7zXFlc"
      }
    },
    {
      "cell_type": "markdown",
      "source": [
        "## Apply SMOTE (Synthetic Minority Over Sampling)\n",
        "• Over sample minority class (FAKE news)"
      ],
      "metadata": {
        "id": "kVsqsS6jqZIb"
      }
    },
    {
      "cell_type": "code",
      "source": [
        "#https://towardsdatascience.com/applying-smote-for-class-imbalance-with-just-a-few-lines-of-code-python-cdf603e58688\n",
        "from imblearn.over_sampling import SMOTE\n",
        "sm = SMOTE(random_state=42)\n",
        "X_res, y_res = sm.fit_resample(Xtr, ytr)"
      ],
      "metadata": {
        "id": "LZ3ZPVcpsP_m"
      },
      "execution_count": null,
      "outputs": []
    },
    {
      "cell_type": "code",
      "source": [
        "from collections import Counter\n",
        "ctr = Counter(y_res)\n",
        "print(ctr)"
      ],
      "metadata": {
        "id": "SlT7FwPRp4oV",
        "colab": {
          "base_uri": "https://localhost:8080/"
        },
        "outputId": "a57057ec-e3f7-4548-8a41-b95f75609768"
      },
      "execution_count": null,
      "outputs": [
        {
          "output_type": "stream",
          "name": "stdout",
          "text": [
            "Counter({0: 12191, 1: 12191})\n"
          ]
        }
      ]
    },
    {
      "cell_type": "code",
      "source": [
        "# np.asarray(X_res)\n",
        "# np.asarray(y_res)\n",
        "Xtr, Xts, ytr, yts = train_test_split(X_res, y_res, random_state = 0, test_size = 0.3)"
      ],
      "metadata": {
        "id": "IikCX0Yhy7-n"
      },
      "execution_count": null,
      "outputs": []
    },
    {
      "cell_type": "markdown",
      "source": [
        "### Gaussian Naive Bayes - SMOTE"
      ],
      "metadata": {
        "id": "Jgb17eWAapWz"
      }
    },
    {
      "cell_type": "code",
      "source": [
        "#1) Gaussian Naive Bayes\n",
        "GNB = GaussianNB()\n",
        "classifier = GNB.fit(Xtr,ytr)\n",
        "yhat = classifier.predict(Xts)"
      ],
      "metadata": {
        "id": "nfG1y-3LanIl"
      },
      "execution_count": null,
      "outputs": []
    },
    {
      "cell_type": "code",
      "source": [
        "#0- real news, 1- fake news\n",
        "class_names = ['Real','Fake']\n",
        "\n",
        "# Plot non-normalized confusion matrix\n",
        "titles_options = [\n",
        "    (\"GNB Confusion matrix, without normalization\", None),\n",
        "    (\"GNB Normalized confusion matrix\", \"true\"),\n",
        "]\n",
        "for title, normalize in titles_options:\n",
        "    disp = ConfusionMatrixDisplay.from_estimator(\n",
        "        classifier,\n",
        "        Xts,\n",
        "        yts,\n",
        "        display_labels=class_names,\n",
        "        cmap=plt.cm.Blues,\n",
        "        normalize=normalize,\n",
        "    )\n",
        "    disp.ax_.set_title(title)\n",
        "\n",
        "    print(title)\n",
        "    print(disp.confusion_matrix)\n",
        "\n",
        "plt.show()"
      ],
      "metadata": {
        "colab": {
          "base_uri": "https://localhost:8080/",
          "height": 1000
        },
        "id": "TTlHn1bpayWq",
        "outputId": "2cf4d46b-8dec-4fa6-c264-95c1cf99d1f2"
      },
      "execution_count": null,
      "outputs": [
        {
          "output_type": "stream",
          "name": "stdout",
          "text": [
            "GNB Confusion matrix, without normalization\n",
            "[[2382 1290]\n",
            " [ 168 3500]]\n",
            "GNB Normalized confusion matrix\n",
            "[[0.64869281 0.35130719]\n",
            " [0.04580153 0.95419847]]\n"
          ]
        },
        {
          "output_type": "display_data",
          "data": {
            "text/plain": [
              "<Figure size 640x480 with 2 Axes>"
            ],
            "image/png": "[encoded data removed]"
          },
          "metadata": {}
        },
        {
          "output_type": "display_data",
          "data": {
            "text/plain": [
              "<Figure size 640x480 with 2 Axes>"
            ],
            "image/png": "[encoded data removed]"
          },
          "metadata": {}
        }
      ]
    },
    {
      "cell_type": "code",
      "source": [
        "#1) Gaussian Naive Bayes - AFTER SMOTE\n",
        "# print(\"Cross Val: \", cross_val_score(MNB, X, y, cv=3))\n",
        "print(\"Accuracy: \",metrics.accuracy_score(yts, yhat))\n",
        "print(\"Precision: \", metrics.precision_score(yts, yhat))\n",
        "print(\"Recall: \", metrics.recall_score(yts, yhat))\n",
        "print(\"F1: \", metrics.f1_score(yts, yhat))\n",
        "print(\"ROC-AUC: \", metrics.roc_auc_score(yts, yhat))"
      ],
      "metadata": {
        "colab": {
          "base_uri": "https://localhost:8080/"
        },
        "id": "vlMEzQ2Ma9K8",
        "outputId": "589965e9-d502-4be4-ccb4-29a39895d1fe"
      },
      "execution_count": null,
      "outputs": [
        {
          "output_type": "stream",
          "name": "stdout",
          "text": [
            "Accuracy:  0.8013623978201635\n",
            "Precision:  0.7306889352818372\n",
            "Recall:  0.9541984732824428\n",
            "F1:  0.8276188224166471\n",
            "ROC-AUC:  0.8014456418699796\n"
          ]
        }
      ]
    },
    {
      "cell_type": "markdown",
      "source": [
        "### Bernoulli Naive Bayes - SMOTE"
      ],
      "metadata": {
        "id": "yx3ERwo5AoaR"
      }
    },
    {
      "cell_type": "code",
      "source": [
        "#2) Bernoulli Naive Bayes\n",
        "BNB = BernoulliNB()\n",
        "BNB.fit(Xtr,ytr)\n",
        "yhat= BNB.predict(Xts)\n",
        "\n",
        "# Plot non-normalized confusion matrix\n",
        "titles_options = [\n",
        "    (\"BNB Confusion matrix, without normalization\", None),\n",
        "    (\"BNB Normalized confusion matrix\", \"true\"),\n",
        "]\n",
        "for title, normalize in titles_options:\n",
        "    disp = ConfusionMatrixDisplay.from_estimator(\n",
        "        classifier,\n",
        "        Xts,\n",
        "        yts,\n",
        "        display_labels=class_names,\n",
        "        cmap=plt.cm.Blues,\n",
        "        normalize=normalize,\n",
        "    )\n",
        "    disp.ax_.set_title(title)\n",
        "\n",
        "    print(title)\n",
        "    print(disp.confusion_matrix)\n",
        "\n",
        "plt.show()"
      ],
      "metadata": {
        "colab": {
          "base_uri": "https://localhost:8080/",
          "height": 1000
        },
        "id": "mD4Oe86LJZer",
        "outputId": "2127cff1-55f2-4694-bb6c-226dff8b65ff"
      },
      "execution_count": null,
      "outputs": [
        {
          "output_type": "stream",
          "name": "stdout",
          "text": [
            "BNB Confusion matrix, without normalization\n",
            "[[2382 1290]\n",
            " [ 168 3500]]\n",
            "BNB Normalized confusion matrix\n",
            "[[0.64869281 0.35130719]\n",
            " [0.04580153 0.95419847]]\n"
          ]
        },
        {
          "output_type": "display_data",
          "data": {
            "text/plain": [
              "<Figure size 640x480 with 2 Axes>"
            ],
            "image/png": "[encoded data removed]"
          },
          "metadata": {}
        },
        {
          "output_type": "display_data",
          "data": {
            "text/plain": [
              "<Figure size 640x480 with 2 Axes>"
            ],
            "image/png": "[encoded data removed]"
          },
          "metadata": {}
        }
      ]
    },
    {
      "cell_type": "code",
      "source": [
        "#BNB Performance - AFTER SMOTE\n",
        "print(\"Cross Val : \", cross_val_score(BNB, X, y, cv=10))\n",
        "print(\"Accuracy: \",metrics.accuracy_score(yts, yhat))\n",
        "print(\"Precision: \", metrics.precision_score(yts, yhat))\n",
        "print(\"Recall: \", metrics.recall_score(yts, yhat))\n",
        "print(\"F1: \", metrics.f1_score(yts, yhat))\n",
        "print(\"ROC-AUC: \", metrics.roc_auc_score(yts, yhat))"
      ],
      "metadata": {
        "colab": {
          "base_uri": "https://localhost:8080/"
        },
        "id": "dly2nfwJJZg6",
        "outputId": "06518d77-9272-434a-f7a4-0731bd78cba8"
      },
      "execution_count": null,
      "outputs": [
        {
          "output_type": "stream",
          "name": "stdout",
          "text": [
            "Cross Val :  [0.81982759 0.82456897 0.83362069 0.82974138 0.82931034 0.83706897\n",
            " 0.83958603 0.83139284 0.83699871 0.83354894]\n",
            "Accuracy:  0.8799727520435967\n",
            "Precision:  0.8607300025886616\n",
            "Recall:  0.9064885496183206\n",
            "F1:  0.8830168636303279\n",
            "ROC-AUC:  0.8799871941991385\n"
          ]
        }
      ]
    },
    {
      "cell_type": "code",
      "source": [],
      "metadata": {
        "id": "82BP0IA9Jf6K"
      },
      "execution_count": null,
      "outputs": []
    },
    {
      "cell_type": "markdown",
      "source": [
        "### Logistic Regression - SMOTE"
      ],
      "metadata": {
        "id": "MRoeK5CZBJXF"
      }
    },
    {
      "cell_type": "code",
      "source": [
        "#Logistic Regression - AFTER SMOTE\n",
        "LR_Model = LogisticRegression()\n",
        "LR_Model.fit(Xtr, ytr)\n",
        "yhat = LR_Model.predict(Xts)\n",
        "\n",
        "print(\"Accuracy: \",metrics.accuracy_score(yts, yhat))\n",
        "print(\"Precision: \", metrics.precision_score(yts, yhat))\n",
        "print(\"Recall: \", metrics.recall_score(yts, yhat))\n",
        "print(\"F1: \", metrics.f1_score(yts, yhat))\n",
        "print(\"ROC-AUC: \", metrics.roc_auc_score(yts, yhat))"
      ],
      "metadata": {
        "id": "BWFdHuuIyvV8",
        "colab": {
          "base_uri": "https://localhost:8080/"
        },
        "outputId": "e7bdcde2-21bb-44c6-f034-967087040125"
      },
      "execution_count": null,
      "outputs": [
        {
          "output_type": "stream",
          "name": "stdout",
          "text": [
            "Accuracy:  0.8772385509227615\n",
            "Precision:  0.8720086044635654\n",
            "Recall:  0.8848567530695771\n",
            "F1:  0.878385698808234\n",
            "ROC-AUC:  0.8772228970827337\n"
          ]
        }
      ]
    },
    {
      "cell_type": "markdown",
      "source": [
        "### XGBoost - SMOTE"
      ],
      "metadata": {
        "id": "wy0sgI9yDPbS"
      }
    },
    {
      "cell_type": "code",
      "source": [
        "#XGBoost - AFTER SMOTE\n",
        "xgb = XGBClassifier()\n",
        "model = xgb.fit(Xtr, ytr)\n",
        "yhat = xgb.predict(Xts)\n",
        "\n",
        "print(\"Accuracy: \",metrics.accuracy_score(yts, yhat))\n",
        "print(\"Precision: \", metrics.precision_score(yts, yhat))\n",
        "print(\"Recall: \", metrics.recall_score(yts, yhat))\n",
        "print(\"F1: \", metrics.f1_score(yts, yhat))\n",
        "print(\"ROC-AUC: \", metrics.roc_auc_score(yts, yhat))"
      ],
      "metadata": {
        "id": "Bzg77BaWCunl",
        "colab": {
          "base_uri": "https://localhost:8080/"
        },
        "outputId": "8a230738-7e3d-4413-81e9-703dfdae3bcc"
      },
      "execution_count": null,
      "outputs": [
        {
          "output_type": "stream",
          "name": "stdout",
          "text": [
            "Accuracy:  0.8961038961038961\n",
            "Precision:  0.9250804799531753\n",
            "Recall:  0.8624829467939973\n",
            "F1:  0.8926856820107314\n",
            "ROC-AUC:  0.8961729802463138\n"
          ]
        }
      ]
    },
    {
      "cell_type": "code",
      "source": [
        "# SVM - AFTER SMOTE\n",
        "from sklearn import svm\n",
        "svm = svm.SVC()\n",
        "svm.fit(Xtr, ytr)\n",
        "yhat= svm.predict(Xts)\n",
        "\n",
        "#Print socres\n",
        "# print(\"Cross Val: \", cross_val_score(svm, X, y, cv=3))\n",
        "print(\"Accuracy: \",metrics.accuracy_score(yts, yhat))\n",
        "print(\"Precision: \", metrics.precision_score(yts, yhat))\n",
        "print(\"Recall: \", metrics.recall_score(yts, yhat))\n",
        "print(\"F1: \", metrics.f1_score(yts, yhat))\n",
        "print(\"AUC: \", metrics.roc_auc_score(yts, yhat))"
      ],
      "metadata": {
        "id": "af5TUca2DN2t",
        "colab": {
          "base_uri": "https://localhost:8080/"
        },
        "outputId": "f070876f-13fd-4419-c359-4933154d58c8"
      },
      "execution_count": null,
      "outputs": [
        {
          "output_type": "stream",
          "name": "stdout",
          "text": [
            "Accuracy:  0.9092276144907724\n",
            "Precision:  0.9456489456489456\n",
            "Recall:  0.8687585266030013\n",
            "F1:  0.9055745164960182\n",
            "AUC:  0.9093107701508157\n"
          ]
        }
      ]
    },
    {
      "cell_type": "markdown",
      "source": [
        "## Apply Undersampling & SMOTE (Synthetic Minority Over Sampling)\n",
        "• Undersample majority class (REAL news) <br>\n",
        "• Over sample minority class (FAKE news)"
      ],
      "metadata": {
        "id": "CxVkRtElZeP9"
      }
    },
    {
      "cell_type": "code",
      "source": [
        "# Get Fake News\n",
        "FN_df = allnews.loc[allnews['flag'] == 1]\n",
        "FN_df.shape"
      ],
      "metadata": {
        "colab": {
          "base_uri": "https://localhost:8080/"
        },
        "id": "lyt-gqw3BsRo",
        "outputId": "65d5dbc5-18cd-48be-f4d7-497d023f324e"
      },
      "execution_count": null,
      "outputs": [
        {
          "output_type": "execute_result",
          "data": {
            "text/plain": [
              "(5755, 6)"
            ]
          },
          "metadata": {},
          "execution_count": 168
        }
      ]
    },
    {
      "cell_type": "code",
      "source": [
        "# Get Real News\n",
        "RN_df = allnews.loc[allnews['flag'] == 0]\n",
        "RN_df.shape"
      ],
      "metadata": {
        "colab": {
          "base_uri": "https://localhost:8080/"
        },
        "id": "mmD2vUjDBtRI",
        "outputId": "46db012c-738c-41a1-ce51-b15f970f2b6d"
      },
      "execution_count": null,
      "outputs": [
        {
          "output_type": "execute_result",
          "data": {
            "text/plain": [
              "(17441, 6)"
            ]
          },
          "metadata": {},
          "execution_count": 169
        }
      ]
    },
    {
      "cell_type": "code",
      "source": [
        "# Undersample Real News\n",
        "# Split real news 3:2 (17441 rows total -> 11510 (2/3))\n",
        "RN_df = RN_df.iloc[:11510,:]"
      ],
      "metadata": {
        "id": "jIGfK63nk1im"
      },
      "execution_count": null,
      "outputs": []
    },
    {
      "cell_type": "code",
      "source": [
        "RN_df.columns"
      ],
      "metadata": {
        "colab": {
          "base_uri": "https://localhost:8080/"
        },
        "id": "uMPVfBvYkGTq",
        "outputId": "747dd38a-1e86-4f45-a68a-0f839ee182bf"
      },
      "execution_count": null,
      "outputs": [
        {
          "output_type": "execute_result",
          "data": {
            "text/plain": [
              "Index(['title', 'flag', 'word_count', 'tweet count', 'polarity',\n",
              "       'sensitivity'],\n",
              "      dtype='object')"
            ]
          },
          "metadata": {},
          "execution_count": 171
        }
      ]
    },
    {
      "cell_type": "code",
      "source": [
        "news_df = np.concatenate((FN_df, RN_df))"
      ],
      "metadata": {
        "id": "l3tEI8_kDN-q"
      },
      "execution_count": null,
      "outputs": []
    },
    {
      "cell_type": "code",
      "source": [
        "# Assign columns\n",
        "news_df = pd.DataFrame(allnews, columns = ['title', 'flag', 'word_count', 'tweet count', 'polarity',\n",
        "       'sensitivity'])\n",
        "news_df.head(5)"
      ],
      "metadata": {
        "id": "_sS2kPl_DOBM",
        "colab": {
          "base_uri": "https://localhost:8080/",
          "height": 206
        },
        "outputId": "fa038187-f873-4339-963b-cc310cee3453"
      },
      "execution_count": null,
      "outputs": [
        {
          "output_type": "execute_result",
          "data": {
            "text/plain": [
              "                                                   title flag  word_count  \\\n",
              "10502  See Kendall Jenner Rap About Exploring Her Unm... 0.00          15   \n",
              "4473   'Big Little Lies' Season 2 Returns 3 More Cast... 1.00          14   \n",
              "6091                           First Presidential Debate 0.00           3   \n",
              "7636   Tiffany Haddish, Hollywood’s New Comedy Queen,... 0.00          12   \n",
              "6759   Ariana Grande pens powerful essay after terror... 0.00          12   \n",
              "\n",
              "       tweet count  polarity  sensitivity  \n",
              "10502           79      0.00         0.00  \n",
              "4473             2      0.10         0.37  \n",
              "6091          1307      0.25         0.33  \n",
              "7636            27     -0.23         0.68  \n",
              "6759            62      0.30         1.00  "
            ],
            "text/html": [
              "\n",
              "  <div id=\"df-a9b8691e-96b4-43b0-ae2a-1cfdde245b02\" class=\"colab-df-container\">\n",
              "    <div>\n",
              "<style scoped>\n",
              "    .dataframe tbody tr th:only-of-type {\n",
              "        vertical-align: middle;\n",
              "    }\n",
              "\n",
              "    .dataframe tbody tr th {\n",
              "        vertical-align: top;\n",
              "    }\n",
              "\n",
              "    .dataframe thead th {\n",
              "        text-align: right;\n",
              "    }\n",
              "</style>\n",
              "<table border=\"1\" class=\"dataframe\">\n",
              "  <thead>\n",
              "    <tr style=\"text-align: right;\">\n",
              "      <th></th>\n",
              "      <th>title</th>\n",
              "      <th>flag</th>\n",
              "      <th>word_count</th>\n",
              "      <th>tweet count</th>\n",
              "      <th>polarity</th>\n",
              "      <th>sensitivity</th>\n",
              "    </tr>\n",
              "  </thead>\n",
              "  <tbody>\n",
              "    <tr>\n",
              "      <th>10502</th>\n",
              "      <td>See Kendall Jenner Rap About Exploring Her Unm...</td>\n",
              "      <td>0.00</td>\n",
              "      <td>15</td>\n",
              "      <td>79</td>\n",
              "      <td>0.00</td>\n",
              "      <td>0.00</td>\n",
              "    </tr>\n",
              "    <tr>\n",
              "      <th>4473</th>\n",
              "      <td>'Big Little Lies' Season 2 Returns 3 More Cast...</td>\n",
              "      <td>1.00</td>\n",
              "      <td>14</td>\n",
              "      <td>2</td>\n",
              "      <td>0.10</td>\n",
              "      <td>0.37</td>\n",
              "    </tr>\n",
              "    <tr>\n",
              "      <th>6091</th>\n",
              "      <td>First Presidential Debate</td>\n",
              "      <td>0.00</td>\n",
              "      <td>3</td>\n",
              "      <td>1307</td>\n",
              "      <td>0.25</td>\n",
              "      <td>0.33</td>\n",
              "    </tr>\n",
              "    <tr>\n",
              "      <th>7636</th>\n",
              "      <td>Tiffany Haddish, Hollywood’s New Comedy Queen,...</td>\n",
              "      <td>0.00</td>\n",
              "      <td>12</td>\n",
              "      <td>27</td>\n",
              "      <td>-0.23</td>\n",
              "      <td>0.68</td>\n",
              "    </tr>\n",
              "    <tr>\n",
              "      <th>6759</th>\n",
              "      <td>Ariana Grande pens powerful essay after terror...</td>\n",
              "      <td>0.00</td>\n",
              "      <td>12</td>\n",
              "      <td>62</td>\n",
              "      <td>0.30</td>\n",
              "      <td>1.00</td>\n",
              "    </tr>\n",
              "  </tbody>\n",
              "</table>\n",
              "</div>\n",
              "    <div class=\"colab-df-buttons\">\n",
              "\n",
              "  <div class=\"colab-df-container\">\n",
              "    <button class=\"colab-df-convert\" onclick=\"convertToInteractive('df-a9b8691e-96b4-43b0-ae2a-1cfdde245b02')\"\n",
              "            title=\"Convert this dataframe to an interactive table.\"\n",
              "            style=\"display:none;\">\n",
              "\n",
              "  <svg xmlns=\"http://www.w3.org/2000/svg\" height=\"24px\" viewBox=\"0 -960 960 960\">\n",
              "    <path d=\"M120-120v-720h720v720H120Zm60-500h600v-160H180v160Zm220 220h160v-160H400v160Zm0 220h160v-160H400v160ZM180-400h160v-160H180v160Zm440 0h160v-160H620v160ZM180-180h160v-160H180v160Zm440 0h160v-160H620v160Z\"/>\n",
              "  </svg>\n",
              "    </button>\n",
              "\n",
              "  <style>\n",
              "    .colab-df-container {\n",
              "      display:flex;\n",
              "      gap: 12px;\n",
              "    }\n",
              "\n",
              "    .colab-df-convert {\n",
              "      background-color: #E8F0FE;\n",
              "      border: none;\n",
              "      border-radius: 50%;\n",
              "      cursor: pointer;\n",
              "      display: none;\n",
              "      fill: #1967D2;\n",
              "      height: 32px;\n",
              "      padding: 0 0 0 0;\n",
              "      width: 32px;\n",
              "    }\n",
              "\n",
              "    .colab-df-convert:hover {\n",
              "      background-color: #E2EBFA;\n",
              "      box-shadow: 0px 1px 2px rgba(60, 64, 67, 0.3), 0px 1px 3px 1px rgba(60, 64, 67, 0.15);\n",
              "      fill: #174EA6;\n",
              "    }\n",
              "\n",
              "    .colab-df-buttons div {\n",
              "      margin-bottom: 4px;\n",
              "    }\n",
              "\n",
              "    [theme=dark] .colab-df-convert {\n",
              "      background-color: #3B4455;\n",
              "      fill: #D2E3FC;\n",
              "    }\n",
              "\n",
              "    [theme=dark] .colab-df-convert:hover {\n",
              "      background-color: #434B5C;\n",
              "      box-shadow: 0px 1px 3px 1px rgba(0, 0, 0, 0.15);\n",
              "      filter: drop-shadow(0px 1px 2px rgba(0, 0, 0, 0.3));\n",
              "      fill: #FFFFFF;\n",
              "    }\n",
              "  </style>\n",
              "\n",
              "    <script>\n",
              "      const buttonEl =\n",
              "        document.querySelector('#df-a9b8691e-96b4-43b0-ae2a-1cfdde245b02 button.colab-df-convert');\n",
              "      buttonEl.style.display =\n",
              "        google.colab.kernel.accessAllowed ? 'block' : 'none';\n",
              "\n",
              "      async function convertToInteractive(key) {\n",
              "        const element = document.querySelector('#df-a9b8691e-96b4-43b0-ae2a-1cfdde245b02');\n",
              "        const dataTable =\n",
              "          await google.colab.kernel.invokeFunction('convertToInteractive',\n",
              "                                                    [key], {});\n",
              "        if (!dataTable) return;\n",
              "\n",
              "        const docLinkHtml = 'Like what you see? Visit the ' +\n",
              "          '<a target=\"_blank\" href=https://colab.research.google.com/notebooks/data_table.ipynb>data table notebook</a>'\n",
              "          + ' to learn more about interactive tables.';\n",
              "        element.innerHTML = '';\n",
              "        dataTable['output_type'] = 'display_data';\n",
              "        await google.colab.output.renderOutput(dataTable, element);\n",
              "        const docLink = document.createElement('div');\n",
              "        docLink.innerHTML = docLinkHtml;\n",
              "        element.appendChild(docLink);\n",
              "      }\n",
              "    </script>\n",
              "  </div>\n",
              "\n",
              "\n",
              "<div id=\"df-e7dc30be-04c8-461e-bec1-b665539bbb3a\">\n",
              "  <button class=\"colab-df-quickchart\" onclick=\"quickchart('df-e7dc30be-04c8-461e-bec1-b665539bbb3a')\"\n",
              "            title=\"Suggest charts\"\n",
              "            style=\"display:none;\">\n",
              "\n",
              "<svg xmlns=\"http://www.w3.org/2000/svg\" height=\"24px\"viewBox=\"0 0 24 24\"\n",
              "     width=\"24px\">\n",
              "    <g>\n",
              "        <path d=\"M19 3H5c-1.1 0-2 .9-2 2v14c0 1.1.9 2 2 2h14c1.1 0 2-.9 2-2V5c0-1.1-.9-2-2-2zM9 17H7v-7h2v7zm4 0h-2V7h2v10zm4 0h-2v-4h2v4z\"/>\n",
              "    </g>\n",
              "</svg>\n",
              "  </button>\n",
              "\n",
              "<style>\n",
              "  .colab-df-quickchart {\n",
              "      --bg-color: #E8F0FE;\n",
              "      --fill-color: #1967D2;\n",
              "      --hover-bg-color: #E2EBFA;\n",
              "      --hover-fill-color: #174EA6;\n",
              "      --disabled-fill-color: #AAA;\n",
              "      --disabled-bg-color: #DDD;\n",
              "  }\n",
              "\n",
              "  [theme=dark] .colab-df-quickchart {\n",
              "      --bg-color: #3B4455;\n",
              "      --fill-color: #D2E3FC;\n",
              "      --hover-bg-color: #434B5C;\n",
              "      --hover-fill-color: #FFFFFF;\n",
              "      --disabled-bg-color: #3B4455;\n",
              "      --disabled-fill-color: #666;\n",
              "  }\n",
              "\n",
              "  .colab-df-quickchart {\n",
              "    background-color: var(--bg-color);\n",
              "    border: none;\n",
              "    border-radius: 50%;\n",
              "    cursor: pointer;\n",
              "    display: none;\n",
              "    fill: var(--fill-color);\n",
              "    height: 32px;\n",
              "    padding: 0;\n",
              "    width: 32px;\n",
              "  }\n",
              "\n",
              "  .colab-df-quickchart:hover {\n",
              "    background-color: var(--hover-bg-color);\n",
              "    box-shadow: 0 1px 2px rgba(60, 64, 67, 0.3), 0 1px 3px 1px rgba(60, 64, 67, 0.15);\n",
              "    fill: var(--button-hover-fill-color);\n",
              "  }\n",
              "\n",
              "  .colab-df-quickchart-complete:disabled,\n",
              "  .colab-df-quickchart-complete:disabled:hover {\n",
              "    background-color: var(--disabled-bg-color);\n",
              "    fill: var(--disabled-fill-color);\n",
              "    box-shadow: none;\n",
              "  }\n",
              "\n",
              "  .colab-df-spinner {\n",
              "    border: 2px solid var(--fill-color);\n",
              "    border-color: transparent;\n",
              "    border-bottom-color: var(--fill-color);\n",
              "    animation:\n",
              "      spin 1s steps(1) infinite;\n",
              "  }\n",
              "\n",
              "  @keyframes spin {\n",
              "    0% {\n",
              "      border-color: transparent;\n",
              "      border-bottom-color: var(--fill-color);\n",
              "      border-left-color: var(--fill-color);\n",
              "    }\n",
              "    20% {\n",
              "      border-color: transparent;\n",
              "      border-left-color: var(--fill-color);\n",
              "      border-top-color: var(--fill-color);\n",
              "    }\n",
              "    30% {\n",
              "      border-color: transparent;\n",
              "      border-left-color: var(--fill-color);\n",
              "      border-top-color: var(--fill-color);\n",
              "      border-right-color: var(--fill-color);\n",
              "    }\n",
              "    40% {\n",
              "      border-color: transparent;\n",
              "      border-right-color: var(--fill-color);\n",
              "      border-top-color: var(--fill-color);\n",
              "    }\n",
              "    60% {\n",
              "      border-color: transparent;\n",
              "      border-right-color: var(--fill-color);\n",
              "    }\n",
              "    80% {\n",
              "      border-color: transparent;\n",
              "      border-right-color: var(--fill-color);\n",
              "      border-bottom-color: var(--fill-color);\n",
              "    }\n",
              "    90% {\n",
              "      border-color: transparent;\n",
              "      border-bottom-color: var(--fill-color);\n",
              "    }\n",
              "  }\n",
              "</style>\n",
              "\n",
              "  <script>\n",
              "    async function quickchart(key) {\n",
              "      const quickchartButtonEl =\n",
              "        document.querySelector('#' + key + ' button');\n",
              "      quickchartButtonEl.disabled = true;  // To prevent multiple clicks.\n",
              "      quickchartButtonEl.classList.add('colab-df-spinner');\n",
              "      try {\n",
              "        const charts = await google.colab.kernel.invokeFunction(\n",
              "            'suggestCharts', [key], {});\n",
              "      } catch (error) {\n",
              "        console.error('Error during call to suggestCharts:', error);\n",
              "      }\n",
              "      quickchartButtonEl.classList.remove('colab-df-spinner');\n",
              "      quickchartButtonEl.classList.add('colab-df-quickchart-complete');\n",
              "    }\n",
              "    (() => {\n",
              "      let quickchartButtonEl =\n",
              "        document.querySelector('#df-e7dc30be-04c8-461e-bec1-b665539bbb3a button');\n",
              "      quickchartButtonEl.style.display =\n",
              "        google.colab.kernel.accessAllowed ? 'block' : 'none';\n",
              "    })();\n",
              "  </script>\n",
              "</div>\n",
              "    </div>\n",
              "  </div>\n"
            ]
          },
          "metadata": {},
          "execution_count": 173
        }
      ]
    },
    {
      "cell_type": "code",
      "source": [],
      "metadata": {
        "id": "G807P94oDJLw"
      },
      "execution_count": null,
      "outputs": []
    },
    {
      "cell_type": "code",
      "source": [
        "# TF-IDF Vectorizer\n",
        "# Transform texts (news titles) into a meaningful representation of numbers while removing stopwords\n",
        "tf_idf = TfidfVectorizer(analyzer='word', stop_words='english', strip_accents = \"ascii\")\n",
        "X = tf_idf.fit_transform(news_df['title'])\n",
        "y = allnews['flag'].astype('int')\n",
        "\n",
        "#Transform to arrays\n",
        "np.asarray(X)\n",
        "np.asarray(y)"
      ],
      "metadata": {
        "colab": {
          "base_uri": "https://localhost:8080/"
        },
        "id": "GG3yA4YlZ_xO",
        "outputId": "682fa491-9c9d-4f99-fd2f-723efbf3679f"
      },
      "execution_count": null,
      "outputs": [
        {
          "output_type": "execute_result",
          "data": {
            "text/plain": [
              "array([0, 1, 0, ..., 0, 0, 0])"
            ]
          },
          "metadata": {},
          "execution_count": 174
        }
      ]
    },
    {
      "cell_type": "code",
      "source": [
        "#Apply SMOTE on Minority Class\n",
        "sm = SMOTE(random_state=42)\n",
        "X_res, y_res = sm.fit_resample(X, y)"
      ],
      "metadata": {
        "id": "CAcJy09HaEv_"
      },
      "execution_count": null,
      "outputs": []
    },
    {
      "cell_type": "code",
      "source": [
        "#Count # Classes - We can observe equal number of data in both classes\n",
        "ctr = Counter(y_res)\n",
        "print(ctr)"
      ],
      "metadata": {
        "id": "ztCu2tq-DOEA",
        "colab": {
          "base_uri": "https://localhost:8080/"
        },
        "outputId": "4ad8c641-e594-4006-8ee9-b27b06b335dc"
      },
      "execution_count": null,
      "outputs": [
        {
          "output_type": "stream",
          "name": "stdout",
          "text": [
            "Counter({0: 17441, 1: 17441})\n"
          ]
        }
      ]
    },
    {
      "cell_type": "code",
      "source": [
        "#To Array and Train-Test Split\n",
        "np.asarray(X_res)\n",
        "np.asarray(y_res)\n",
        "Xtr, Xts, ytr, yts = train_test_split(X_res, y_res, random_state = 0, test_size = 0.3)"
      ],
      "metadata": {
        "id": "Ntswg4QkCUua"
      },
      "execution_count": null,
      "outputs": []
    },
    {
      "cell_type": "code",
      "source": [
        "# Scale Data\n",
        "from sklearn.preprocessing import MaxAbsScaler #fixed import\n",
        "scaler = MaxAbsScaler()\n",
        "Xtr = scaler.fit_transform(Xtr)\n",
        "Xts = scaler.transform(Xts)"
      ],
      "metadata": {
        "id": "opkVokwvl0DC"
      },
      "execution_count": null,
      "outputs": []
    },
    {
      "cell_type": "code",
      "source": [
        "Xtr = Xtr.toarray()\n",
        "Xts = Xts.toarray()"
      ],
      "metadata": {
        "id": "aURh2sFHCUws"
      },
      "execution_count": null,
      "outputs": []
    },
    {
      "cell_type": "markdown",
      "source": [
        "### Gaussian Naive Bayes - OVERSAMPLING & UNDERSAMPLING"
      ],
      "metadata": {
        "id": "Ppnsj4AzTKML"
      }
    },
    {
      "cell_type": "code",
      "source": [
        "#1) Gaussian Naive Bayes\n",
        "GNB = GaussianNB()\n",
        "classifier = GNB.fit(Xtr,ytr)\n",
        "yhat = GNB.predict(Xts)"
      ],
      "metadata": {
        "id": "djZo3aMbCUzD"
      },
      "execution_count": null,
      "outputs": []
    },
    {
      "cell_type": "code",
      "source": [
        "#0- real news, 1- fake news\n",
        "class_names = ['Real','Fake']\n",
        "\n",
        "# Plot non-normalized confusion matrix\n",
        "titles_options = [\n",
        "    (\"GNB Confusion matrix, without normalization\", None),\n",
        "    (\"GNB Normalized confusion matrix\", \"true\"),\n",
        "]\n",
        "for title, normalize in titles_options:\n",
        "    disp = ConfusionMatrixDisplay.from_estimator(\n",
        "        classifier,\n",
        "        Xts,\n",
        "        yts,\n",
        "        display_labels=class_names,\n",
        "        cmap=plt.cm.Blues,\n",
        "        normalize=normalize,\n",
        "    )\n",
        "    disp.ax_.set_title(title)\n",
        "\n",
        "    print(title)\n",
        "    print(disp.confusion_matrix)\n",
        "\n",
        "plt.show()"
      ],
      "metadata": {
        "colab": {
          "base_uri": "https://localhost:8080/",
          "height": 1000
        },
        "id": "IVYOB9RUDV8a",
        "outputId": "ee0ceb20-7cb7-4bfc-b4dd-bb6e5aade9a6"
      },
      "execution_count": null,
      "outputs": [
        {
          "output_type": "stream",
          "name": "stdout",
          "text": [
            "GNB Confusion matrix, without normalization\n",
            "[[3057 2079]\n",
            " [ 174 5155]]\n",
            "GNB Normalized confusion matrix\n",
            "[[0.59521028 0.40478972]\n",
            " [0.03265153 0.96734847]]\n"
          ]
        },
        {
          "output_type": "display_data",
          "data": {
            "text/plain": [
              "<Figure size 640x480 with 2 Axes>"
            ],
            "image/png": "[encoded data removed]"
          },
          "metadata": {}
        },
        {
          "output_type": "display_data",
          "data": {
            "text/plain": [
              "<Figure size 640x480 with 2 Axes>"
            ],
            "image/png": "[encoded data removed]"
          },
          "metadata": {}
        }
      ]
    },
    {
      "cell_type": "code",
      "source": [
        "#1) Gaussian Naive Bayes\n",
        "#GNB F1 score improved from 0.41 to 0.86\n",
        "\n",
        "# print(\"Cross Val: \", cross_val_score(MNB, X, y, cv=3))\n",
        "print(\"Accuracy: \",metrics.accuracy_score(yts, yhat))\n",
        "print(\"Precision: \", metrics.precision_score(yts, yhat))\n",
        "print(\"Recall: \", metrics.recall_score(yts, yhat))\n",
        "print(\"F1: \", metrics.f1_score(yts, yhat))\n",
        "print(\"ROC-AUC: \", metrics.roc_auc_score(yts, yhat))"
      ],
      "metadata": {
        "colab": {
          "base_uri": "https://localhost:8080/"
        },
        "id": "Ptc_bgKqDV-v",
        "outputId": "cd573dab-63ba-4c40-f435-4fa683887737"
      },
      "execution_count": null,
      "outputs": [
        {
          "output_type": "stream",
          "name": "stdout",
          "text": [
            "Accuracy:  0.7847109412326804\n",
            "Precision:  0.7126071329831352\n",
            "Recall:  0.9673484706323888\n",
            "F1:  0.8206638541749582\n",
            "ROC-AUC:  0.7812793755031103\n"
          ]
        }
      ]
    },
    {
      "cell_type": "code",
      "source": [],
      "metadata": {
        "id": "sMY4SNojJjIL"
      },
      "execution_count": null,
      "outputs": []
    },
    {
      "cell_type": "markdown",
      "source": [
        "### Bernoulli Naive Bayes - OVERSAMPLING & UNDERSAMPLING"
      ],
      "metadata": {
        "id": "BKn0bMdWTRET"
      }
    },
    {
      "cell_type": "code",
      "source": [
        "#2) Bernoulli Naive Bayes\n",
        "BNB = BernoulliNB()\n",
        "BNB.fit(Xtr,ytr)\n",
        "yhat= BNB.predict(Xts)\n",
        "\n",
        "# Plot non-normalized confusion matrix\n",
        "titles_options = [\n",
        "    (\"BNB Confusion matrix, without normalization\", None),\n",
        "    (\"BNB Normalized confusion matrix\", \"true\"),\n",
        "]\n",
        "for title, normalize in titles_options:\n",
        "    disp = ConfusionMatrixDisplay.from_estimator(\n",
        "        classifier,\n",
        "        Xts,\n",
        "        yts,\n",
        "        display_labels=class_names,\n",
        "        cmap=plt.cm.Blues,\n",
        "        normalize=normalize,\n",
        "    )\n",
        "    disp.ax_.set_title(title)\n",
        "\n",
        "    print(title)\n",
        "    print(disp.confusion_matrix)\n",
        "\n",
        "plt.show()"
      ],
      "metadata": {
        "colab": {
          "base_uri": "https://localhost:8080/",
          "height": 1000
        },
        "id": "t292WIFNJjKf",
        "outputId": "0fb32de7-8499-42c5-9d02-0019ff92545f"
      },
      "execution_count": null,
      "outputs": [
        {
          "output_type": "stream",
          "name": "stdout",
          "text": [
            "BNB Confusion matrix, without normalization\n",
            "[[3057 2079]\n",
            " [ 174 5155]]\n",
            "BNB Normalized confusion matrix\n",
            "[[0.59521028 0.40478972]\n",
            " [0.03265153 0.96734847]]\n"
          ]
        },
        {
          "output_type": "display_data",
          "data": {
            "text/plain": [
              "<Figure size 640x480 with 2 Axes>"
            ],
            "image/png": "[encoded data removed]"
          },
          "metadata": {}
        },
        {
          "output_type": "display_data",
          "data": {
            "text/plain": [
              "<Figure size 640x480 with 2 Axes>"
            ],
            "image/png": "[encoded data removed]"
          },
          "metadata": {}
        }
      ]
    },
    {
      "cell_type": "code",
      "source": [
        "#2) Bernoulli Naive Bayes\n",
        "\n",
        "# print(\"Cross Val: \", cross_val_score(MNB, X, y, cv=3))\n",
        "print(\"Accuracy: \",metrics.accuracy_score(yts, yhat))\n",
        "print(\"Precision: \", metrics.precision_score(yts, yhat))\n",
        "print(\"Recall: \", metrics.recall_score(yts, yhat))\n",
        "print(\"F1: \", metrics.f1_score(yts, yhat))\n",
        "print(\"ROC-AUC: \", metrics.roc_auc_score(yts, yhat))"
      ],
      "metadata": {
        "colab": {
          "base_uri": "https://localhost:8080/"
        },
        "id": "v-yOhnrsJlPJ",
        "outputId": "55cd42a7-54fa-466c-8fee-d6ba72def8a3"
      },
      "execution_count": null,
      "outputs": [
        {
          "output_type": "stream",
          "name": "stdout",
          "text": [
            "Accuracy:  0.8642140468227425\n",
            "Precision:  0.8539855072463768\n",
            "Recall:  0.8845937324075812\n",
            "F1:  0.8690201861922757\n",
            "ROC-AUC:  0.8638311341165632\n"
          ]
        }
      ]
    },
    {
      "cell_type": "code",
      "source": [],
      "metadata": {
        "id": "-vhuGCspDhyS"
      },
      "execution_count": null,
      "outputs": []
    },
    {
      "cell_type": "markdown",
      "source": [
        "### Logistic Regression - OVERSAMPLING & UNDERSAMPLING"
      ],
      "metadata": {
        "id": "LS2hda0OTVTL"
      }
    },
    {
      "cell_type": "code",
      "source": [
        "#Logistic Regression\n",
        "LR_Model = LogisticRegression()\n",
        "LR_Model.fit(Xtr, ytr)\n",
        "yhat = LR_Model.predict(Xts)\n",
        "\n",
        "print(\"Accuracy: \",metrics.accuracy_score(yts, yhat))\n",
        "print(\"Precision: \", metrics.precision_score(yts, yhat))\n",
        "print(\"Recall: \", metrics.recall_score(yts, yhat))\n",
        "print(\"F1: \", metrics.f1_score(yts, yhat))\n",
        "print(\"ROC-AUC: \", metrics.roc_auc_score(yts, yhat))"
      ],
      "metadata": {
        "colab": {
          "base_uri": "https://localhost:8080/"
        },
        "id": "J8RY9AgnDWBF",
        "outputId": "b27ae4bb-3b90-486d-b78d-3a80905eb2e9"
      },
      "execution_count": null,
      "outputs": [
        {
          "output_type": "stream",
          "name": "stdout",
          "text": [
            "Accuracy:  0.8701385570950788\n",
            "Precision:  0.8575347476225311\n",
            "Recall:  0.8899221863731258\n",
            "F1:  0.8734283319362951\n",
            "ROC-AUC:  0.869999584333599\n"
          ]
        }
      ]
    },
    {
      "cell_type": "code",
      "source": [],
      "metadata": {
        "id": "7xV2WRUADiV_"
      },
      "execution_count": null,
      "outputs": []
    },
    {
      "cell_type": "markdown",
      "source": [
        "### XGBoost - OVERSAMPLING & UNDERSAMPLING"
      ],
      "metadata": {
        "id": "GR7DmcfFTYYT"
      }
    },
    {
      "cell_type": "code",
      "source": [
        "#XGBoost\n",
        "xgb = XGBClassifier()\n",
        "model = xgb.fit(Xtr, ytr)\n",
        "yhat = xgb.predict(Xts)\n",
        "\n",
        "print(\"Accuracy: \",metrics.accuracy_score(yts, yhat))\n",
        "print(\"Precision: \", metrics.precision_score(yts, yhat))\n",
        "print(\"Recall: \", metrics.recall_score(yts, yhat))\n",
        "print(\"F1: \", metrics.f1_score(yts, yhat))\n",
        "print(\"ROC-AUC: \", metrics.roc_auc_score(yts, yhat))"
      ],
      "metadata": {
        "colab": {
          "base_uri": "https://localhost:8080/"
        },
        "id": "-91JGFhzDihj",
        "outputId": "29107f79-23a9-4c6c-a52b-902dc781f4e1"
      },
      "execution_count": null,
      "outputs": [
        {
          "output_type": "stream",
          "name": "stdout",
          "text": [
            "Accuracy:  0.8380315336837076\n",
            "Precision:  0.8894943330427202\n",
            "Recall:  0.7745302713987474\n",
            "F1:  0.8280409861012479\n",
            "ROC-AUC:  0.8384776068310134\n"
          ]
        }
      ]
    },
    {
      "cell_type": "markdown",
      "source": [
        "### SVM - OVERSAMPLING & UNDERSAMPLING <br>\n",
        "Computationally intensive. Will update soon.\n"
      ],
      "metadata": {
        "id": "aB7I1ecFTb6Y"
      }
    },
    {
      "cell_type": "code",
      "source": [
        "# SVM Oversampling + Undersampling\n",
        "# from sklearn import svm\n",
        "# svm = svm.SVC()\n",
        "# svm.fit(Xtr, ytr)\n",
        "# yhat= svm.predict(Xts)\n",
        "\n",
        "# #Print socres\n",
        "# # print(\"Cross Val: \", cross_val_score(svm, X, y, cv=3))\n",
        "# print(\"Accuracy: \",metrics.accuracy_score(yts, yhat))\n",
        "# print(\"Precision: \", metrics.precision_score(yts, yhat))\n",
        "# print(\"Recall: \", metrics.recall_score(yts, yhat))\n",
        "# print(\"F1: \", metrics.f1_score(yts, yhat))\n",
        "# print(\"AUC: \", metrics.roc_auc_score(yts, yhat))"
      ],
      "metadata": {
        "id": "TE_BDJ5L6oDM"
      },
      "execution_count": null,
      "outputs": []
    },
    {
      "cell_type": "code",
      "source": [],
      "metadata": {
        "id": "Gf4sGYdrDk3-"
      },
      "execution_count": null,
      "outputs": []
    },
    {
      "cell_type": "markdown",
      "source": [
        "## Final Result![Screen Shot 2024-01-06 at 7.09.30 PM.png](data:image/png;base64,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)"
      ],
      "metadata": {
        "id": "ikPoRAOnem7f"
      }
    }
  ]
}